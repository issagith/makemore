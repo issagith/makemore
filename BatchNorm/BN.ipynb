{
 "cells": [
  {
   "cell_type": "markdown",
   "metadata": {},
   "source": [
    "# Activations & Gradients, Batch Normalization\n",
    "\n",
    "This notebook explores the internal mechanics of Multi-Layer Perceptrons (MLPs), focusing on:\n",
    "\n",
    "- Statistics of forward pass activations\n",
    "- Backward pass gradients analysis\n",
    "- Common pitfalls of improper scaling\n",
    "- Diagnostic tools and visualizations for network health\n",
    "- Introduction to Batch Normalization and its importance\n",
    "- Understanding training challenges in deep neural networks\n",
    "\n",
    "We'll examine why deep neural network training can be unstable and how Batch Normalization serves as a key innovation in addressing these challenges.\n",
    "\n",
    "Useful links:\n",
    "- \"Kaiming init\" paper: https://arxiv.org/abs/1502.01852\n",
    "- BatchNorm paper: https://arxiv.org/abs/1502.03167\n",
    "- Bengio et al. 2003 MLP language model paper (pdf): https://www.jmlr.org/papers/volume3/b...\n",
    "- Good paper illustrating some of the problems with batchnorm in practice: https://arxiv.org/abs/2105.07576\n",
    "\n",
    "*Note: Topics like Residual connections and Adam optimizer are not covered in this notebook.*\n",
    "\n",
    "\n",
    "\n"
   ]
  },
  {
   "cell_type": "markdown",
   "metadata": {},
   "source": [
    "### The code we have so far"
   ]
  },
  {
   "cell_type": "code",
   "execution_count": 25,
   "metadata": {},
   "outputs": [],
   "source": [
    "import torch \n",
    "import torch.nn.functional as F\n",
    "import matplotlib.pyplot as plt "
   ]
  },
  {
   "cell_type": "code",
   "execution_count": 26,
   "metadata": {},
   "outputs": [],
   "source": [
    "words = open('../data/names.txt', 'r').read().splitlines()"
   ]
  },
  {
   "cell_type": "code",
   "execution_count": 27,
   "metadata": {},
   "outputs": [],
   "source": [
    "# build the vocabulary of characters and mappings to/from integers\n",
    "charsSet = set(''.join(words)) \n",
    "chars = sorted(list(charsSet)) \n",
    "\n",
    "stoi = {s:i+1 for i,s in enumerate(chars)} # str to int dict\n",
    "stoi['.'] = 0 # used to mark the end of a word\n",
    "itos = {i+1:s for i,s in enumerate(chars)} # int to str dict\n",
    "itos[0] = '.' "
   ]
  },
  {
   "cell_type": "code",
   "execution_count": 28,
   "metadata": {},
   "outputs": [
    {
     "name": "stdout",
     "output_type": "stream",
     "text": [
      "25626 28829\n",
      "torch.Size([182625, 3]) torch.Size([182625])\n",
      "torch.Size([22655, 3]) torch.Size([22655])\n",
      "torch.Size([22866, 3]) torch.Size([22866])\n"
     ]
    }
   ],
   "source": [
    "block_size = 3 \n",
    "\n",
    "def build_dataset(words):\n",
    "    X, Y = [], []\n",
    "    for w in words:\n",
    "        context = [0] * block_size # create the empty list of appropriate size 0's are \".\"\n",
    "        for ch in w + '.': # add a dot at the end of the word \n",
    "            ix = stoi[ch] # retrieve the index of the ch\n",
    "            X.append(context) \n",
    "            Y.append(ix) # target is the index of the ch\n",
    "\n",
    "            #print(''.join(itos[i] for i in context), '--->', itos[ix]) # visually understand the X's and Y's\n",
    "            context = context[1:] + [ix] # crop to the left and add the next index to the right \n",
    "\n",
    "    return torch.tensor(X), torch.tensor(Y)\n",
    "\n",
    "import random \n",
    "random.seed(42)\n",
    "random.shuffle(words) \n",
    "\n",
    "n1 = int(0.8*len(words))\n",
    "n2 = int(0.9*len(words))\n",
    "\n",
    "Xtr, Ytr = build_dataset(words[:n1])\n",
    "Xdev, Ydev = build_dataset(words[n1:n2])\n",
    "Xte, Yte = build_dataset(words[n2:])\n",
    "\n",
    "print(n1, n2)\n",
    "print(Xtr.shape, Ytr.shape)\n",
    "print(Xdev.shape, Ydev.shape)\n",
    "print(Xte.shape, Yte.shape)"
   ]
  },
  {
   "cell_type": "code",
   "execution_count": 29,
   "metadata": {},
   "outputs": [
    {
     "name": "stdout",
     "output_type": "stream",
     "text": [
      "6097\n"
     ]
    }
   ],
   "source": [
    "n_embd = 10 # dimensionality of the character embedding vectors\n",
    "n_hidden = 100 # number of neurons in the hidden layer of the MLP\n",
    "vocab_size = len(chars) + 1\n",
    "\n",
    "g = torch.Generator().manual_seed(2147483647) # for reproducibility\n",
    "C = torch.randn((vocab_size, n_embd),                generator=g)\n",
    "W1 = torch.randn((n_embd*block_size, n_hidden), generator=g)\n",
    "b1 = torch.randn(n_hidden,                      generator=g)\n",
    "W2 = torch.randn((n_hidden, vocab_size),        generator=g)\n",
    "b2 = torch.randn(vocab_size,                    generator=g)\n",
    "parameters = [C, W1, b1, W2, b2]\n",
    "\n",
    "print(sum(p.nelement() for p in parameters))\n",
    "for p in parameters:\n",
    "    p.requires_grad = True"
   ]
  },
  {
   "cell_type": "code",
   "execution_count": 30,
   "metadata": {},
   "outputs": [
    {
     "name": "stdout",
     "output_type": "stream",
     "text": [
      "      0/ 200000: 18.5454\n",
      "  10000/ 200000: 2.2443\n",
      "  20000/ 200000: 2.1210\n",
      "  30000/ 200000: 2.1859\n",
      "  40000/ 200000: 2.0487\n",
      "  50000/ 200000: 1.8602\n",
      "  60000/ 200000: 2.1181\n",
      "  70000/ 200000: 2.1337\n",
      "  80000/ 200000: 2.1878\n",
      "  90000/ 200000: 2.1133\n",
      " 100000/ 200000: 2.2010\n",
      " 110000/ 200000: 2.2665\n",
      " 120000/ 200000: 2.6027\n",
      " 130000/ 200000: 2.4345\n",
      " 140000/ 200000: 2.0107\n",
      " 150000/ 200000: 2.3355\n",
      " 160000/ 200000: 1.9183\n",
      " 170000/ 200000: 2.0670\n",
      " 180000/ 200000: 2.2075\n",
      " 190000/ 200000: 2.2650\n"
     ]
    }
   ],
   "source": [
    "max_steps = 200000\n",
    "batch_size = 32\n",
    "lossi = []\n",
    "\n",
    "for i in range(max_steps):\n",
    "    # minibatch construct\n",
    "    ix = torch.randint(0, Xtr.shape[0], (batch_size,), generator=g)\n",
    "    Xb, Yb = Xtr[ix], Ytr[ix]\n",
    "\n",
    "    # forward pass\n",
    "    emb = C[Xb] # embed the chars into vectors\n",
    "    embcat = emb.view(emb.shape[0],-1) # concatenate the vectors\n",
    "    hpreact = embcat @ W1 + b1 # hidden layer pre-activation \n",
    "    h = torch.tanh(hpreact) # hidden layer\n",
    "    logits = h @ W2 + b2 # output layer\n",
    "    loss = F.cross_entropy(logits, Yb)  \n",
    "\n",
    "    # Backward pass\n",
    "    for p in parameters:\n",
    "        p.grad = None \n",
    "    loss.backward()\n",
    "\n",
    "    # update \n",
    "    lr = 0.1 if i < 100000 else 0.01\n",
    "    for p in parameters:\n",
    "        p.data += -lr * p.grad \n",
    "\n",
    "    # stats\n",
    "    if i % 10000 == 0:\n",
    "        print(f'{i:7d}/{max_steps:7d}: {loss.item():.4f}')\n",
    "    lossi.append(loss.log10().item())"
   ]
  },
  {
   "cell_type": "code",
   "execution_count": 31,
   "metadata": {},
   "outputs": [
    {
     "data": {
      "text/plain": [
       "[<matplotlib.lines.Line2D at 0x21a53fc0a40>]"
      ]
     },
     "execution_count": 31,
     "metadata": {},
     "output_type": "execute_result"
    },
    {
     "data": {
      "image/png": "[encoded data removed]",
      "text/plain": [
       "<Figure size 640x480 with 1 Axes>"
      ]
     },
     "metadata": {},
     "output_type": "display_data"
    }
   ],
   "source": [
    "plt.plot(lossi)"
   ]
  },
  {
   "cell_type": "code",
   "execution_count": 32,
   "metadata": {},
   "outputs": [
    {
     "name": "stdout",
     "output_type": "stream",
     "text": [
      "train 2.1465883255004883\n",
      "val 2.174128293991089\n"
     ]
    }
   ],
   "source": [
    "@torch.no_grad() # this decorator disables gradient tracking\n",
    "def split_loss(split):\n",
    "    x,y = {\n",
    "        'train': (Xtr, Ytr),\n",
    "        'val': (Xdev, Ydev),\n",
    "        'test': (Xte, Yte)\n",
    "    }[split]\n",
    "    emb = C[x] # (N, block_size, n_embd)\n",
    "    embcat = emb.view(emb.shape[0], -1) # concat into (N, block_size * n_embd)\n",
    "    h = torch.tanh(embcat @ W1 + b1) # (N, n_hidden)\n",
    "    logits = h @ W2 + b2 # (N, vocab_size)\n",
    "    loss = F.cross_entropy(logits, y)\n",
    "    print(split, loss.item())\n",
    "\n",
    "split_loss('train')\n",
    "split_loss('val')\n"
   ]
  },
  {
   "cell_type": "code",
   "execution_count": 33,
   "metadata": {},
   "outputs": [
    {
     "name": "stdout",
     "output_type": "stream",
     "text": [
      "mora.\n",
      "kayah.\n",
      "seel.\n",
      "nihahala.\n",
      "emmaniendraeg.\n",
      "adelyn.\n",
      "eliah.\n",
      "milopi.\n",
      "eden.\n",
      "sananar.\n",
      "kayzion.\n",
      "kalin.\n",
      "shubergshiries.\n",
      "kin.\n",
      "reth.\n",
      "konnie.\n",
      "caylyn.\n",
      "ged.\n",
      "ryyah.\n",
      "fael.\n"
     ]
    }
   ],
   "source": [
    "# sample from the model \n",
    "g = torch.Generator().manual_seed(2147483647 + 10)\n",
    "\n",
    "for _ in range(20):\n",
    "    out = []\n",
    "    context = [0] * block_size\n",
    "    while True:\n",
    "        # forward pass\n",
    "        emb = C[torch.tensor([context])] # (1, block_size, n_embd)\n",
    "        embcat = emb.view(1, -1) # concat into (N, block_size * n_embd)\n",
    "        h = torch.tanh(embcat @ W1 + b1) # (N, n_hidden)\n",
    "        logits = h @ W2 + b2 # (N, vocab_size)\n",
    "        probs = F.softmax(logits, dim=1)\n",
    "\n",
    "        # sample from the distrib\n",
    "        ix = torch.multinomial(probs, num_samples=1, generator=g).item()\n",
    "\n",
    "        # shift the context window and track the samples\n",
    "        context = context[1:] + [ix]\n",
    "        out.append(ix)\n",
    "\n",
    "        # if we sample '.' token, break\n",
    "        if ix == 0:\n",
    "            break\n",
    "\n",
    "    print(''.join(itos[i] for i in out))\n",
    "\n"
   ]
  },
  {
   "cell_type": "markdown",
   "metadata": {},
   "source": [
    "### Now, let's address the initialization "
   ]
  },
  {
   "cell_type": "markdown",
   "metadata": {},
   "source": [
    "First, we now that there is an issue because the loss looks like an hockey stick.\n",
    "\n",
    "We can have a rough idea of the intial value we would excpect for the loss. Indeed, there are 27 possible characters and at intialization, the model should be guessing randomly. As we have no prior belief, we can assume that the model is guessing uniformly.\n",
    "\n",
    "Therefore, the expected loss should be: -log(1/27) = 3.3 << 18 that we observe in the plot."
   ]
  },
  {
   "cell_type": "code",
   "execution_count": null,
   "metadata": {},
   "outputs": [
    {
     "data": {
      "text/plain": [
       "(tensor([ -9.0021,  23.4563, -12.3504,  -5.9034]),\n",
       " tensor([8.0075e-15, 1.0000e+00, 2.8142e-16, 1.7753e-13]),\n",
       " tensor(35.8067))"
      ]
     },
     "execution_count": 53,
     "metadata": {},
     "output_type": "execute_result"
    }
   ],
   "source": [
    "# 4D example of the issue\n",
    "\n",
    "# logits = torch.tensor([-3.0, 5.0, 0.0, 2.0])\n",
    "logits = torch.randn(4) * 10\n",
    "probs = torch.softmax(logits, dim=0)\n",
    "loss = -probs[2].log()\n",
    "logits, probs, loss\n",
    "\n",
    "# The bigger the initial values are the bigger the probability of having a huge loss is \n",
    "# That's because if they are all very differents, the probs are very wheighted (confident answers by the model)\n",
    "# Thus, the neg log turns out big if we are guessing on the wrong bucket\n",
    "# If they are all pretty much the same, it's better\n",
    "# Solution : set them all really close to 0"
   ]
  },
  {
   "cell_type": "markdown",
   "metadata": {},
   "source": [
    "Let's see the impact of this new initialization.\n",
    "\n",
    "Logits are calculated as h @ W2 + b2. So if we wan't them close to 0, we must initialize b2 to 0 and W2 very small.\n",
    "\n",
    "We will see later why we should avoid to initialize W2 to 0."
   ]
  },
  {
   "cell_type": "code",
   "execution_count": 62,
   "metadata": {},
   "outputs": [
    {
     "name": "stdout",
     "output_type": "stream",
     "text": [
      "6097\n"
     ]
    }
   ],
   "source": [
    "n_embd = 10 # dimensionality of the character embedding vectors\n",
    "n_hidden = 100 # number of neurons in the hidden layer of the MLP\n",
    "vocab_size = len(chars) + 1\n",
    "\n",
    "g = torch.Generator().manual_seed(2147483647) # for reproducibility\n",
    "C = torch.randn((vocab_size, n_embd),           generator=g)\n",
    "W1 = torch.randn((n_embd*block_size, n_hidden), generator=g)\n",
    "b1 = torch.randn(n_hidden,                      generator=g)\n",
    "W2 = torch.randn((n_hidden, vocab_size),        generator=g) * 0.01\n",
    "b2 = torch.randn(vocab_size,                    generator=g) * 0\n",
    "parameters = [C, W1, b1, W2, b2]\n",
    "\n",
    "print(sum(p.nelement() for p in parameters))\n",
    "for p in parameters:\n",
    "    p.requires_grad = True"
   ]
  },
  {
   "cell_type": "code",
   "execution_count": null,
   "metadata": {},
   "outputs": [
    {
     "name": "stdout",
     "output_type": "stream",
     "text": [
      "      0/ 200000: 3.3113\n"
     ]
    }
   ],
   "source": [
    "max_steps = 200000\n",
    "batch_size = 32\n",
    "lossi = []\n",
    "\n",
    "for i in range(max_steps):\n",
    "    # minibatch construct\n",
    "    ix = torch.randint(0, Xtr.shape[0], (batch_size,), generator=g)\n",
    "    Xb, Yb = Xtr[ix], Ytr[ix]\n",
    "\n",
    "    # forward pass\n",
    "    emb = C[Xb] # embed the chars into vectors\n",
    "    embcat = emb.view(emb.shape[0],-1) # concatenate the vectors\n",
    "    hpreact = embcat @ W1 + b1 # hidden layer pre-activation \n",
    "    h = torch.tanh(hpreact) # hidden layer\n",
    "    logits = h @ W2 + b2 # output layer\n",
    "    loss = F.cross_entropy(logits, Yb)  \n",
    "\n",
    "    # Backward pass\n",
    "    for p in parameters:\n",
    "        p.grad = None \n",
    "    loss.backward()\n",
    "\n",
    "    # update \n",
    "    lr = 0.1 if i < 100000 else 0.01\n",
    "    for p in parameters:\n",
    "        p.data += -lr * p.grad \n",
    "\n",
    "    # stats\n",
    "    if i % 10000 == 0:\n",
    "        print(f'{i:7d}/{max_steps:7d}: {loss.item():.4f}')\n",
    "    lossi.append(loss.log10().item())\n",
    "\n",
    "    break\n",
    "\n",
    "# from 18.5454\n",
    "# to 3.3113 with b2 = 0 and W2 * 0.01\n",
    "# It's now closer to this idea of uniform distrib"
   ]
  },
  {
   "cell_type": "code",
   "execution_count": null,
   "metadata": {},
   "outputs": [
    {
     "data": {
      "text/plain": [
       "tensor([-0.1266,  0.0205, -0.0193,  0.0304,  0.1225,  0.0484, -0.2076, -0.1809,\n",
       "        -0.0220,  0.0178,  0.1027,  0.0908, -0.1996,  0.0426,  0.0204, -0.0842,\n",
       "        -0.0894,  0.1147, -0.0301, -0.1151, -0.1579,  0.0195, -0.0061, -0.1180,\n",
       "         0.0008,  0.0321, -0.0855], grad_fn=<SelectBackward0>)"
      ]
     },
     "execution_count": 60,
     "metadata": {},
     "output_type": "execute_result"
    }
   ],
   "source": [
    "logits[0] # way closer to 0 "
   ]
  },
  {
   "cell_type": "markdown",
   "metadata": {},
   "source": [
    "Let's run the optimization again with this new initialization."
   ]
  },
  {
   "cell_type": "code",
   "execution_count": 63,
   "metadata": {},
   "outputs": [
    {
     "name": "stdout",
     "output_type": "stream",
     "text": [
      "      0/ 200000: 3.3113\n",
      "  10000/ 200000: 2.3142\n",
      "  20000/ 200000: 2.1829\n",
      "  30000/ 200000: 2.1195\n",
      "  40000/ 200000: 2.1354\n",
      "  50000/ 200000: 1.9125\n",
      "  60000/ 200000: 2.0492\n",
      "  70000/ 200000: 2.1304\n",
      "  80000/ 200000: 2.1849\n",
      "  90000/ 200000: 2.1509\n",
      " 100000/ 200000: 2.1357\n",
      " 110000/ 200000: 2.2173\n",
      " 120000/ 200000: 2.6701\n",
      " 130000/ 200000: 2.1241\n",
      " 140000/ 200000: 2.0376\n",
      " 150000/ 200000: 2.2920\n",
      " 160000/ 200000: 1.9707\n",
      " 170000/ 200000: 2.0798\n",
      " 180000/ 200000: 2.1422\n",
      " 190000/ 200000: 2.2667\n"
     ]
    }
   ],
   "source": [
    "max_steps = 200000\n",
    "batch_size = 32\n",
    "lossi = []\n",
    "\n",
    "for i in range(max_steps):\n",
    "    # minibatch construct\n",
    "    ix = torch.randint(0, Xtr.shape[0], (batch_size,), generator=g)\n",
    "    Xb, Yb = Xtr[ix], Ytr[ix]\n",
    "\n",
    "    # forward pass\n",
    "    emb = C[Xb] # embed the chars into vectors\n",
    "    embcat = emb.view(emb.shape[0],-1) # concatenate the vectors\n",
    "    hpreact = embcat @ W1 + b1 # hidden layer pre-activation \n",
    "    h = torch.tanh(hpreact) # hidden layer\n",
    "    logits = h @ W2 + b2 # output layer\n",
    "    loss = F.cross_entropy(logits, Yb)  \n",
    "\n",
    "    # Backward pass\n",
    "    for p in parameters:\n",
    "        p.grad = None \n",
    "    loss.backward()\n",
    "\n",
    "    # update \n",
    "    lr = 0.1 if i < 100000 else 0.01\n",
    "    for p in parameters:\n",
    "        p.data += -lr * p.grad \n",
    "\n",
    "    # stats\n",
    "    if i % 10000 == 0:\n",
    "        print(f'{i:7d}/{max_steps:7d}: {loss.item():.4f}')\n",
    "    lossi.append(loss.log10().item())\n"
   ]
  },
  {
   "cell_type": "markdown",
   "metadata": {},
   "source": [
    "As excpected, the los starts at around 3.3\n",
    "\n",
    "Also, the hockey stick shape is gone. And the final loss is a bit lower than before.\n",
    "\n",
    "That's because before, the first iterations were spent to get the logits close to 0. Then, the model could start learning. Now, the model can learn from the start."
   ]
  },
  {
   "cell_type": "code",
   "execution_count": 64,
   "metadata": {},
   "outputs": [
    {
     "data": {
      "text/plain": [
       "[<matplotlib.lines.Line2D at 0x21a67fea120>]"
      ]
     },
     "execution_count": 64,
     "metadata": {},
     "output_type": "execute_result"
    },
    {
     "data": {
      "image/png": "[encoded data removed]",
      "text/plain": [
       "<Figure size 640x480 with 1 Axes>"
      ]
     },
     "metadata": {},
     "output_type": "display_data"
    }
   ],
   "source": [
    "plt.plot(lossi)"
   ]
  },
  {
   "cell_type": "code",
   "execution_count": 65,
   "metadata": {},
   "outputs": [
    {
     "name": "stdout",
     "output_type": "stream",
     "text": [
      "train 2.1282122135162354\n",
      "val 2.1653144359588623\n"
     ]
    }
   ],
   "source": [
    "split_loss('train')\n",
    "split_loss('val')"
   ]
  },
  {
   "cell_type": "markdown",
   "metadata": {},
   "source": [
    "### tanh Saturation\n",
    "\n",
    "Now, we will see that the squashing effect of tanh put many of the neurons in \"saturation\" mode. It's a mode where the values are very close to -1 or 1. In this mode, the gradient is very small and the model can't learn properly. So we need to fix that."
   ]
  },
  {
   "cell_type": "code",
   "execution_count": 70,
   "metadata": {},
   "outputs": [
    {
     "data": {
      "image/png": "[encoded data removed]",
      "text/plain": [
       "<Figure size 640x480 with 1 Axes>"
      ]
     },
     "metadata": {},
     "output_type": "display_data"
    }
   ],
   "source": [
    "# Let's see the distribution of the values of h first\n",
    "\n",
    "outputs = h.view(-1).tolist() # make it a long list of all the values\n",
    "plt.hist(outputs, 50)\n",
    "plt.show()\n",
    "\n",
    "# As we've just said, the extrem majority of values are -1 or 1 creating a broad U shape"
   ]
  },
  {
   "cell_type": "code",
   "execution_count": null,
   "metadata": {},
   "outputs": [
    {
     "data": {
      "image/png": "[encoded data removed]",
      "text/plain": [
       "<Figure size 640x480 with 1 Axes>"
      ]
     },
     "metadata": {},
     "output_type": "display_data"
    }
   ],
   "source": [
    "# Let's ckeck the distribution of the preactivated values (the ones that are sent to tanh)\n",
    "\n",
    "plt.hist(hpreact.view(-1).tolist(), 50)\n",
    "plt.show()\n",
    "\n",
    "# Now, we understand why the activated values are sent to 1 and -1\n",
    "# The distribution is gaussian but with a huge variance. The values are ranging from -30 to 30\n",
    "# So it's obvious that it's too large to evenly squash them all between -1 and 1 using tanh\n",
    "# There necesserely is too much \"activation \""
   ]
  },
  {
   "cell_type": "markdown",
   "metadata": {},
   "source": [
    "#### Why is it problematic?\n",
    "\n",
    "The gradient of tanh is defined as: \n",
    "$$\n",
    "\\frac{d}{dx} tanh(x) = 1 - tanh^2(x)\n",
    "$$\n",
    "So when tanh is close to -1 or 1, the gradient is very small. This means that the model can't learn properly because the gradient descent will be very slow.\n",
    "\n",
    "Worst, if tanh is equal to -1 or 1, the gradient is equal to 0. This means that the optimization would stop.  (vanishing gradient problem)\n",
    "\n",
    "It makes sense intuitively when we think about the plot of tanh. When values are close to -1 or 1, the slope is flat. So, changing the input a bit won't change the output much i.e there is no impact on the loss that is calculated thanks to the output.\n",
    "\n",
    "Recap : we can change the weights and biases of this layer as much as we want, the output will not change. So the model can't learn.\n",
    "\n",
    "Inversly, if the values are close to 0, the gradient is simply past through. Otherwise it shrinks proportionnaly to 1 - tanh^2(x). So the more we are far from 0, the more the gradient is small. "
   ]
  },
  {
   "cell_type": "code",
   "execution_count": null,
   "metadata": {},
   "outputs": [
    {
     "data": {
      "image/png": "[encoded data removed]",
      "text/plain": [
       "<Figure size 2000x1000 with 1 Axes>"
      ]
     },
     "metadata": {},
     "output_type": "display_data"
    }
   ],
   "source": [
    "plt.figure(figsize=(20,10))\n",
    "plt.imshow(h.abs() > 0.99, cmap='gray', interpolation='nearest')\n",
    "plt.show()\n",
    "\n",
    "# Here, every white cell is a neuron that is extremely activated >0.99"
   ]
  },
  {
   "cell_type": "markdown",
   "metadata": {},
   "source": [
    "For the 32 examples, we can see that a lot of the 100 neurons are saturated. \n",
    "\n",
    "A dead neuron is a neuron that hasn't been activated at all for the entire batch. Here, the first one is activated only for 1 example. Which means that it's almost dead. \n",
    "\n",
    "Whenever a neuron is white for an example, it means that as stated above, the gradient is 0. So the model didn't learn anything for this example. It's a huge waste of time.\n",
    "\n",
    "Note : The same problem applies to ReLU or Sigmoid as they have flat tails too. Conversely, the leaky ReLU doesn't have this problem."
   ]
  },
  {
   "cell_type": "markdown",
   "metadata": {},
   "source": [
    "### So how to fix that?\n",
    "\n",
    "We must modify the distribution of the preactivated values.\n",
    "\n",
    "But they are calulcated as emb @ W1 + b1. And emb are uniformed gaussian. So we have to reduce W1 and b1."
   ]
  },
  {
   "cell_type": "code",
   "execution_count": 86,
   "metadata": {},
   "outputs": [
    {
     "name": "stdout",
     "output_type": "stream",
     "text": [
      "6097\n"
     ]
    }
   ],
   "source": [
    "n_embd = 10 # dimensionality of the character embedding vectors\n",
    "n_hidden = 100 # number of neurons in the hidden layer of the MLP\n",
    "vocab_size = len(chars) + 1\n",
    "\n",
    "g = torch.Generator().manual_seed(2147483647) # for reproducibility\n",
    "C = torch.randn((vocab_size, n_embd),           generator=g)\n",
    "W1 = torch.randn((n_embd*block_size, n_hidden), generator=g) * 0.2\n",
    "b1 = torch.randn(n_hidden,                      generator=g) * 0.01\n",
    "W2 = torch.randn((n_hidden, vocab_size),        generator=g) * 0.01\n",
    "b2 = torch.randn(vocab_size,                    generator=g) * 0\n",
    "parameters = [C, W1, b1, W2, b2]\n",
    "\n",
    "print(sum(p.nelement() for p in parameters))\n",
    "for p in parameters:\n",
    "    p.requires_grad = True"
   ]
  },
  {
   "cell_type": "code",
   "execution_count": 87,
   "metadata": {},
   "outputs": [
    {
     "name": "stdout",
     "output_type": "stream",
     "text": [
      "      0/ 200000: 3.3083\n"
     ]
    }
   ],
   "source": [
    "max_steps = 200000\n",
    "batch_size = 32\n",
    "lossi = []\n",
    "\n",
    "for i in range(max_steps):\n",
    "    # minibatch construct\n",
    "    ix = torch.randint(0, Xtr.shape[0], (batch_size,), generator=g)\n",
    "    Xb, Yb = Xtr[ix], Ytr[ix]\n",
    "\n",
    "    # forward pass\n",
    "    emb = C[Xb] # embed the chars into vectors\n",
    "    embcat = emb.view(emb.shape[0],-1) # concatenate the vectors\n",
    "    hpreact = embcat @ W1 + b1 # hidden layer pre-activation \n",
    "    h = torch.tanh(hpreact) # hidden layer\n",
    "    logits = h @ W2 + b2 # output layer\n",
    "    loss = F.cross_entropy(logits, Yb)  \n",
    "\n",
    "    # Backward pass\n",
    "    for p in parameters:\n",
    "        p.grad = None \n",
    "    loss.backward()\n",
    "\n",
    "    # update \n",
    "    lr = 0.1 if i < 100000 else 0.01\n",
    "    for p in parameters:\n",
    "        p.data += -lr * p.grad \n",
    "\n",
    "    # stats\n",
    "    if i % 10000 == 0:\n",
    "        print(f'{i:7d}/{max_steps:7d}: {loss.item():.4f}')\n",
    "    lossi.append(loss.log10().item())\n",
    "\n",
    "    break\n"
   ]
  },
  {
   "cell_type": "code",
   "execution_count": 89,
   "metadata": {},
   "outputs": [
    {
     "data": {
      "image/png": "[encoded data removed]",
      "text/plain": [
       "<Figure size 640x480 with 1 Axes>"
      ]
     },
     "metadata": {},
     "output_type": "display_data"
    },
    {
     "data": {
      "image/png": "[encoded data removed]",
      "text/plain": [
       "<Figure size 640x480 with 1 Axes>"
      ]
     },
     "metadata": {},
     "output_type": "display_data"
    },
    {
     "data": {
      "image/png": "[encoded data removed]",
      "text/plain": [
       "<Figure size 2000x1000 with 1 Axes>"
      ]
     },
     "metadata": {},
     "output_type": "display_data"
    }
   ],
   "source": [
    "\n",
    "outputs = h.view(-1).tolist()\n",
    "plt.hist(outputs, 50)\n",
    "plt.title('activated neurons')\n",
    "plt.show()\n",
    "\n",
    "plt.hist(hpreact.view(-1).tolist(), 50)\n",
    "plt.title('preactivated neurons')\n",
    "plt.show()\n",
    "\n",
    "plt.figure(figsize=(20,10))\n",
    "plt.imshow(h.abs() > 0.99, cmap='gray', interpolation='nearest')\n",
    "plt.show()"
   ]
  },
  {
   "cell_type": "markdown",
   "metadata": {},
   "source": [
    "Now we have almost no saturation anymore and a good histograms of the preactivations and the activations.\n",
    "\n",
    "Having the right initialization will help the model to learn faster and better.\n",
    "\n",
    "This is espacially important for deep networks where these problems stack up and amplify making the training sometimes impossible."
   ]
  }
 ],
 "metadata": {
  "kernelspec": {
   "display_name": "env",
   "language": "python",
   "name": "python3"
  },
  "language_info": {
   "codemirror_mode": {
    "name": "ipython",
    "version": 3
   },
   "file_extension": ".py",
   "mimetype": "text/x-python",
   "name": "python",
   "nbconvert_exporter": "python",
   "pygments_lexer": "ipython3",
   "version": "3.12.0"
  }
 },
 "nbformat": 4,
 "nbformat_minor": 2
}
