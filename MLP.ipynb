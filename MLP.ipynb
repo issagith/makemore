{
 "cells": [
  {
   "cell_type": "markdown",
   "metadata": {},
   "source": [
    "### Next character prediction using a multi layer perceptron\n",
    "\n",
    "From https://www.youtube.com/watch?v=TCH_1BHY58I&t=1174s&ab_channel=AndrejKarpathy \n",
    "\n",
    "Inspired by the Bengio et al. 2003 MLP language model paper (pdf): https://www.jmlr.org/papers/volume3/bengio03a/bengio03a.pdf"
   ]
  },
  {
   "cell_type": "code",
   "execution_count": null,
   "metadata": {},
   "outputs": [],
   "source": [
    "import torch\n",
    "import torch.nn.functional as F\n",
    "import matplotlib.pyplot as plt # for making figures\n",
    "%matplotlib inline"
   ]
  },
  {
   "cell_type": "code",
   "execution_count": 147,
   "metadata": {},
   "outputs": [
    {
     "data": {
      "text/plain": [
       "['emma', 'olivia', 'ava', 'isabella', 'sophia']"
      ]
     },
     "execution_count": 147,
     "metadata": {},
     "output_type": "execute_result"
    }
   ],
   "source": [
    "words = open('names.txt', 'r').read().splitlines()\n",
    "words[:5]"
   ]
  },
  {
   "cell_type": "code",
   "execution_count": 148,
   "metadata": {},
   "outputs": [
    {
     "data": {
      "text/plain": [
       "32033"
      ]
     },
     "execution_count": 148,
     "metadata": {},
     "output_type": "execute_result"
    }
   ],
   "source": [
    "len(words)"
   ]
  },
  {
   "cell_type": "code",
   "execution_count": 149,
   "metadata": {},
   "outputs": [
    {
     "name": "stdout",
     "output_type": "stream",
     "text": [
      "{123, 23} <class 'set'> 2\n",
      "{1, 123, 23}\n",
      "{123, 23}\n",
      "True\n"
     ]
    }
   ],
   "source": [
    "# Notes on sets\n",
    "exSet = {23, 123, 23}\n",
    "print(exSet, type(exSet), len(exSet)) \n",
    "# set in python are unnordered collection of unique elements that's why the len of exSet is 2\n",
    "# as they are unnordered, they are not indexed \n",
    "# exSet[0] # doesn't work for that reason  \n",
    "# we can update them \n",
    "exSet.add(1)\n",
    "print(exSet)\n",
    "exSet.remove(1)\n",
    "print(exSet)\n",
    "# we can verify the existence of an element in the set\n",
    "print(123 in exSet)"
   ]
  },
  {
   "cell_type": "code",
   "execution_count": 150,
   "metadata": {},
   "outputs": [
    {
     "name": "stdout",
     "output_type": "stream",
     "text": [
      "<class 'enumerate'>\n",
      "0 a\n",
      "1 b\n",
      "2 c\n",
      "3 d\n",
      "<enumerate object at 0x000001DC5A6E84A0>\n",
      "0 a\n",
      "1 b\n",
      "2 c\n",
      "3 d\n",
      "{'a': 0, 'b': 1, 'c': 2, 'd': 3}\n",
      "{'a': 0, 'b': 1, 'c': 2, 'd': 3}\n"
     ]
    }
   ],
   "source": [
    "# Notes on enumerate\n",
    "# it's used to add a counter on any subscriptable (such as a list) \n",
    "# and it returns this subscriptable as an enumerate object\n",
    "# An enumerate object can then be used to obtain both the value and the index \n",
    "\n",
    "l =  ['a', 'b', 'c', 'd']\n",
    "print(type(enumerate(l)))\n",
    "\n",
    "for index, value in enumerate(l):\n",
    "    print(index,value)\n",
    "\n",
    "# this is the basic way to create the dict associated to this enumeration\n",
    "dict = {}\n",
    "print(enumerate(l))\n",
    "for i,s in enumerate(l):\n",
    "    print(i,s)\n",
    "    dict[s] = i\n",
    "print(dict)\n",
    "\n",
    "# it's equivalent to this dict comprehension where the syntax a:b means the key a is assigned the value b\n",
    "dict = {s:i for i,s in enumerate(l)}\n",
    "print(dict)"
   ]
  },
  {
   "cell_type": "code",
   "execution_count": 151,
   "metadata": {},
   "outputs": [
    {
     "name": "stdout",
     "output_type": "stream",
     "text": [
      "['a', 'b', 'c', 'd', 'e'] 26\n",
      "{'a': 1, 'b': 2, 'c': 3, 'd': 4, 'e': 5, 'f': 6, 'g': 7, 'h': 8, 'i': 9, 'j': 10, 'k': 11, 'l': 12, 'm': 13, 'n': 14, 'o': 15, 'p': 16, 'q': 17, 'r': 18, 's': 19, 't': 20, 'u': 21, 'v': 22, 'w': 23, 'x': 24, 'y': 25, 'z': 26, '.': 0}\n",
      "{1: 'a', 2: 'b', 3: 'c', 4: 'd', 5: 'e', 6: 'f', 7: 'g', 8: 'h', 9: 'i', 10: 'j', 11: 'k', 12: 'l', 13: 'm', 14: 'n', 15: 'o', 16: 'p', 17: 'q', 18: 'r', 19: 's', 20: 't', 21: 'u', 22: 'v', 23: 'w', 24: 'x', 25: 'y', 26: 'z', 0: '.'}\n"
     ]
    }
   ],
   "source": [
    "# build the vocabulary of characters and mappings to/from integers\n",
    "charsSet = set(''.join(words)) # join concatenates all the words (chars actually) into a single string and set creates a set of unique elements from that str\n",
    "# it's a quick way to get all the chars the file \n",
    "\n",
    "chars = sorted(list(charsSet)) # we convert the set to a list so that we can sort it \n",
    "print(chars[:5], len(chars)) # we now have the sorted list of the 26 chars of the alphabet\n",
    "\n",
    "# we create the mappings\n",
    "stoi = {s:i+1 for i,s in enumerate(chars)} # str to int dict\n",
    "stoi['.'] = 0 # used to mark the end of a word\n",
    "itos = {i+1:s for i,s in enumerate(chars)} # int to str dict\n",
    "itos[0] = '.' \n",
    "print(stoi)\n",
    "print(itos)\n"
   ]
  },
  {
   "cell_type": "code",
   "execution_count": 152,
   "metadata": {},
   "outputs": [
    {
     "name": "stdout",
     "output_type": "stream",
     "text": [
      "\n",
      " emma\n",
      "... ---> e\n",
      "..e ---> m\n",
      ".em ---> m\n",
      "emm ---> a\n",
      "mma ---> .\n",
      "\n",
      " olivia\n",
      "... ---> o\n",
      "..o ---> l\n",
      ".ol ---> i\n",
      "oli ---> v\n",
      "liv ---> i\n",
      "ivi ---> a\n",
      "via ---> .\n",
      "\n",
      " ava\n",
      "... ---> a\n",
      "..a ---> v\n",
      ".av ---> a\n",
      "ava ---> .\n",
      "tensor([[ 0,  0,  0],\n",
      "        [ 0,  0,  5],\n",
      "        [ 0,  5, 13],\n",
      "        [ 5, 13, 13],\n",
      "        [13, 13,  1],\n",
      "        [ 0,  0,  0],\n",
      "        [ 0,  0, 15],\n",
      "        [ 0, 15, 12],\n",
      "        [15, 12,  9],\n",
      "        [12,  9, 22],\n",
      "        [ 9, 22,  9],\n",
      "        [22,  9,  1],\n",
      "        [ 0,  0,  0],\n",
      "        [ 0,  0,  1],\n",
      "        [ 0,  1, 22],\n",
      "        [ 1, 22,  1]]) torch.Size([16, 3])\n",
      "tensor([ 5, 13, 13,  1,  0, 15, 12,  9, 22,  9,  1,  0,  1, 22,  1,  0]) torch.Size([16])\n"
     ]
    }
   ],
   "source": [
    "# build the dataset\n",
    "\n",
    "block_size = 3 # context length : how many chars do we take to predict the next one\n",
    "X, Y = [], []\n",
    "for w in words[:3]:\n",
    "    print('\\n', w)\n",
    "    context = [0] * block_size # create the empty list of appropriate size 0's are \".\"\n",
    "    for ch in w + '.': # add a dot at the end of the word \n",
    "        ix = stoi[ch] # retrieve the index of the ch\n",
    "        X.append(context) \n",
    "        Y.append(ix) # target is the index of the ch\n",
    "\n",
    "        print(''.join(itos[i] for i in context), '--->', itos[ix]) # visually understand the X's and Y's\n",
    "        context = context[1:] + [ix] # crop to the left and add the next index to the right \n",
    "    \n",
    "X = torch.tensor(X)\n",
    "Y = torch.tensor(Y)\n",
    "print(X, X.shape) # each line is a context window \n",
    "print(Y, Y.shape) # list of all the expected following char for each context window"
   ]
  },
  {
   "cell_type": "code",
   "execution_count": 153,
   "metadata": {},
   "outputs": [
    {
     "name": "stdout",
     "output_type": "stream",
     "text": [
      "for the word : emma\n",
      "\n",
      "for the context :  tensor([0, 0, 0])\n",
      "which is :  ['.', '.', '.']\n",
      "we have the excpected index tensor(5)\n",
      "which is :  e\n",
      "\n",
      "for the context :  tensor([0, 0, 5])\n",
      "which is :  ['.', '.', 'e']\n",
      "we have the excpected index tensor(13)\n",
      "which is :  m\n",
      "\n",
      "for the context :  tensor([ 0,  5, 13])\n",
      "which is :  ['.', 'e', 'm']\n",
      "we have the excpected index tensor(13)\n",
      "which is :  m\n",
      "\n",
      "for the context :  tensor([ 5, 13, 13])\n",
      "which is :  ['e', 'm', 'm']\n",
      "we have the excpected index tensor(1)\n",
      "which is :  a\n"
     ]
    }
   ],
   "source": [
    "# some examples\n",
    "\n",
    "print(\"for the word :\", words[0])\n",
    "for i in range(len(words[0])):\n",
    "    print(\"\\nfor the context : \", X[i])\n",
    "    print(\"which is : \", [itos[i.item()] for i in X[i]])\n",
    "    print(\"we have the excpected index\", Y[i])\n",
    "    print(\"which is : \", itos[Y[i].item()])\n"
   ]
  },
  {
   "cell_type": "code",
   "execution_count": 154,
   "metadata": {},
   "outputs": [
    {
     "data": {
      "text/plain": [
       "(torch.Size([16, 3]), torch.int64, torch.Size([16]), torch.int64)"
      ]
     },
     "execution_count": 154,
     "metadata": {},
     "output_type": "execute_result"
    }
   ],
   "source": [
    "X.shape, X.dtype, Y.shape, Y.dtype"
   ]
  },
  {
   "cell_type": "markdown",
   "metadata": {},
   "source": [
    "### Embedding space\n",
    "\n",
    "The idea is to embed the characters in a smaller dimensional space \n",
    "\n",
    "In the paper, they predicts words in a sentence, so they have 17000 words embedded in a 30 dimensional space. Here we predict the next character in a sequence of characters, so we will embed 27 characters in a 2 dimensional space to start with.\n",
    "\n",
    "The intuition behind this embedding space is that similar characters will be close to each other in the 2D space, and the MLP will learn to predict the next character based on the previous characters and the position of the characters in the embedding space.\n"
   ]
  },
  {
   "attachments": {
    "image.png": {
     "image/png": "[encoded data removed]"
    }
   },
   "cell_type": "markdown",
   "metadata": {},
   "source": [
    "![image.png](attachment:image.png)"
   ]
  },
  {
   "cell_type": "code",
   "execution_count": 161,
   "metadata": {},
   "outputs": [
    {
     "name": "stdout",
     "output_type": "stream",
     "text": [
      "tensor([[-0.8370,  0.4488],\n",
      "        [ 1.2673,  0.0583],\n",
      "        [ 1.2381,  0.4250],\n",
      "        [-1.0087, -0.3792],\n",
      "        [-0.5276, -0.4598],\n",
      "        [ 1.1373,  1.2321]])\n"
     ]
    },
    {
     "data": {
      "text/plain": [
       "(tensor([1.1373, 1.2321]), 'e')"
      ]
     },
     "execution_count": 161,
     "metadata": {},
     "output_type": "execute_result"
    }
   ],
   "source": [
    "# We start with a random embedding \n",
    "# For each index, we have a point in R^2\n",
    "emb_dim = 2\n",
    "C = torch.randn((27,emb_dim))\n",
    "print(C[:6])\n",
    "C[5], itos[5] # coordinates of 5 which is 'e'"
   ]
  },
  {
   "cell_type": "code",
   "execution_count": 156,
   "metadata": {},
   "outputs": [
    {
     "name": "stdout",
     "output_type": "stream",
     "text": [
      "tensor([0.2328, 1.6438])\n"
     ]
    },
    {
     "data": {
      "text/plain": [
       "tensor([0.2328, 1.6438])"
      ]
     },
     "execution_count": 156,
     "metadata": {},
     "output_type": "execute_result"
    }
   ],
   "source": [
    "# The lookup table to the embedding space C[i] can be thought of as the first linear layer in the bigger nn showed above\n",
    "# Indeed, if we encode the indexes using one_hot_encoding, then C[i] = encoded_i dot C (easily verifiable by hand)\n",
    "# So we input the encoded indexes and we treat C as weights  \n",
    "# It's faster to just use C[i] so we will use that but it's a fun fact\n",
    "\n",
    "print(C[5])\n",
    "F.one_hot(torch.tensor(5), num_classes=27).float() @ C # we convert to float bc by default it's a long float and C is just a float"
   ]
  },
  {
   "cell_type": "code",
   "execution_count": 157,
   "metadata": {},
   "outputs": [
    {
     "name": "stdout",
     "output_type": "stream",
     "text": [
      "tensor([0.2328, 1.6438])\n",
      "tensor([[ 0.1896,  1.1851],\n",
      "        [ 0.3378, -1.1522],\n",
      "        [ 0.1748,  2.2057]])\n",
      "tensor([[ 0.1896,  1.1851],\n",
      "        [ 0.3378, -1.1522],\n",
      "        [ 0.1748,  2.2057],\n",
      "        [ 0.1748,  2.2057]])\n",
      "tensor([[ 0.6540, -0.4395],\n",
      "        [ 0.6540, -0.4395],\n",
      "        [ 0.6540, -0.4395]])\n",
      "torch.Size([16, 3, 2])\n"
     ]
    }
   ],
   "source": [
    "# How to embed X in one shot ? \n",
    "\n",
    "print(C[5]) # embeds 5\n",
    "print(C[[1,2,3]]) # embeds 1,2,3\n",
    "print(C[torch.tensor([1,2,3,3])]) # works with tensors and the same element multiple times (not only with tensors)\n",
    "\n",
    "print(C[X][0]) # embeding of the first context (['.','.','.'])\n",
    "print(C[X].shape)\n",
    "\n",
    "# it's an array of all matrices of embeded contexts\n",
    "# a matrice of embeded context is created from a context list that is embeded just as in the example with C[[1,2,3]]\n",
    "# So C[X][i] gives the embedding of the ith context\n",
    "# C[X][i][j] gives the embedding of the jth int in the ith context\n",
    "\n",
    "# To \"give the embedding\" of the jth int is to give its coordonates in the 2D space C"
   ]
  },
  {
   "cell_type": "code",
   "execution_count": 158,
   "metadata": {},
   "outputs": [
    {
     "name": "stdout",
     "output_type": "stream",
     "text": [
      "tensor(13)\n",
      "tensor([-1.6467, -1.9367])\n",
      "tensor([-1.6467, -1.9367])\n",
      "\n",
      "tensor([ 5, 13, 13])\n",
      "tensor([[ 0.2328,  1.6438],\n",
      "        [-1.6467, -1.9367],\n",
      "        [-1.6467, -1.9367]])\n",
      "tensor([[ 0.2328,  1.6438],\n",
      "        [-1.6467, -1.9367],\n",
      "        [-1.6467, -1.9367]])\n"
     ]
    }
   ],
   "source": [
    "print(X[3,2]) #the 2nd int of the 3rd context is 13 here\n",
    "print(C[X][3,2]) \n",
    "print(C[13]) \n",
    "# we see that to retrieve the embeding of a certain number in X,\n",
    "# we can do that by looking up it's value in C[X] at the exact location we found it in X\n",
    "\n",
    "print()\n",
    "print(X[3])\n",
    "print(C[X][3])\n",
    "print(C[[ 5, 13, 13]])\n",
    "# works for entiere contexts as well "
   ]
  },
  {
   "cell_type": "code",
   "execution_count": 159,
   "metadata": {},
   "outputs": [
    {
     "data": {
      "text/plain": [
       "torch.Size([16, 3, 2])"
      ]
     },
     "execution_count": 159,
     "metadata": {},
     "output_type": "execute_result"
    }
   ],
   "source": [
    "emb = C[X]\n",
    "emb.shape"
   ]
  },
  {
   "cell_type": "markdown",
   "metadata": {},
   "source": [
    "### Model \n",
    "\n",
    "Now that we have the embedding space, we create the model displayed in the image above."
   ]
  },
  {
   "cell_type": "code",
   "execution_count": 166,
   "metadata": {},
   "outputs": [
    {
     "data": {
      "text/plain": [
       "(torch.Size([6, 100]), torch.Size([100]))"
      ]
     },
     "execution_count": 166,
     "metadata": {},
     "output_type": "execute_result"
    }
   ],
   "source": [
    "# let's build the first hidden layer of the image \n",
    "input_size = block_size*emb_dim\n",
    "nbr_neurons_1 = 100\n",
    "W1 = torch.randn((input_size, nbr_neurons_1)) # wheights matrix of the first hidden layer\n",
    "b1 = torch.randn(nbr_neurons_1) # for each neuron we have a random bias \n",
    "W1.shape, b1.shape\n",
    "\n",
    "# The input size in not only block_size (nbr of chars in context) because each neuron is a coordinate of a char in the embedding space\n",
    "# Each row of W1 corresponds to the weights connecting one input neuron to all neurons in the hidden layer\n",
    "# Each column of W1 corresponds to the weights connecting all input neurons to one neuron in the hidden layer\n"
   ]
  },
  {
   "cell_type": "code",
   "execution_count": 178,
   "metadata": {},
   "outputs": [
    {
     "name": "stdout",
     "output_type": "stream",
     "text": [
      "torch.Size([16, 3, 2]) torch.Size([6, 100])\n",
      "tensor([[ 0.6540, -0.4395],\n",
      "        [ 0.6540, -0.4395],\n",
      "        [ 0.6540, -0.4395],\n",
      "        [ 0.2328,  1.6438],\n",
      "        [-1.6467, -1.9367],\n",
      "        [ 0.6540, -0.4395],\n",
      "        [ 0.6540, -0.4395],\n",
      "        [ 0.6540, -0.4395],\n",
      "        [ 0.9645, -0.7037],\n",
      "        [-1.4357, -0.5062],\n",
      "        [-0.7849, -0.5811],\n",
      "        [ 0.8678, -0.1341],\n",
      "        [ 0.6540, -0.4395],\n",
      "        [ 0.6540, -0.4395],\n",
      "        [ 0.6540, -0.4395],\n",
      "        [ 0.1896,  1.1851]])\n",
      "torch.Size([16, 2])\n",
      "tensor([[ 0.6540, -0.4395,  0.6540, -0.4395,  0.6540, -0.4395],\n",
      "        [ 0.6540, -0.4395,  0.6540, -0.4395,  0.2328,  1.6438],\n",
      "        [ 0.6540, -0.4395,  0.2328,  1.6438, -1.6467, -1.9367],\n",
      "        [ 0.2328,  1.6438, -1.6467, -1.9367, -1.6467, -1.9367],\n",
      "        [-1.6467, -1.9367, -1.6467, -1.9367,  0.1896,  1.1851],\n",
      "        [ 0.6540, -0.4395,  0.6540, -0.4395,  0.6540, -0.4395],\n",
      "        [ 0.6540, -0.4395,  0.6540, -0.4395,  0.9645, -0.7037],\n",
      "        [ 0.6540, -0.4395,  0.9645, -0.7037, -1.4357, -0.5062],\n",
      "        [ 0.9645, -0.7037, -1.4357, -0.5062, -0.7849, -0.5811],\n",
      "        [-1.4357, -0.5062, -0.7849, -0.5811,  0.8678, -0.1341],\n",
      "        [-0.7849, -0.5811,  0.8678, -0.1341, -0.7849, -0.5811],\n",
      "        [ 0.8678, -0.1341, -0.7849, -0.5811,  0.1896,  1.1851],\n",
      "        [ 0.6540, -0.4395,  0.6540, -0.4395,  0.6540, -0.4395],\n",
      "        [ 0.6540, -0.4395,  0.6540, -0.4395,  0.1896,  1.1851],\n",
      "        [ 0.6540, -0.4395,  0.1896,  1.1851,  0.8678, -0.1341],\n",
      "        [ 0.1896,  1.1851,  0.8678, -0.1341,  0.1896,  1.1851]]) torch.Size([16, 6])\n"
     ]
    }
   ],
   "source": [
    "# We cannot simply perform emb @ W1 + b1 because as we said, emb is a list of embeded contexts (matrices)\n",
    "print(emb.shape, W1.shape)\n",
    "\n",
    "# we must concatenate the embeddings for each input layer \n",
    "print(emb[:,0,:]) # gives for each context, the embeding of the first char \n",
    "print(emb[:,0,:].shape)\n",
    "conc_emb = torch.cat([emb[:,i,:] for i in range(block_size)], axis=1) # we concatenate the list of all the embedings of the chars in a context window\n",
    "# we are doing the concatenation on the columns \n",
    "# So for each line, we have 6 numbers coresponding to 3 embedings in C\n",
    "print(conc_emb, conc_emb.shape)"
   ]
  },
  {
   "cell_type": "code",
   "execution_count": 201,
   "metadata": {},
   "outputs": [
    {
     "name": "stdout",
     "output_type": "stream",
     "text": [
      "(tensor([1, 2, 3]), tensor([4, 5, 6]), tensor([7, 8, 9]))\n",
      "(tensor([1, 4, 7]), tensor([2, 5, 8]), tensor([3, 6, 9]))\n"
     ]
    },
    {
     "data": {
      "text/plain": [
       "(tensor([[ 0.6540, -0.4395,  0.6540, -0.4395,  0.6540, -0.4395],\n",
       "         [ 0.6540, -0.4395,  0.6540, -0.4395,  0.2328,  1.6438],\n",
       "         [ 0.6540, -0.4395,  0.2328,  1.6438, -1.6467, -1.9367],\n",
       "         [ 0.2328,  1.6438, -1.6467, -1.9367, -1.6467, -1.9367],\n",
       "         [-1.6467, -1.9367, -1.6467, -1.9367,  0.1896,  1.1851],\n",
       "         [ 0.6540, -0.4395,  0.6540, -0.4395,  0.6540, -0.4395],\n",
       "         [ 0.6540, -0.4395,  0.6540, -0.4395,  0.9645, -0.7037],\n",
       "         [ 0.6540, -0.4395,  0.9645, -0.7037, -1.4357, -0.5062],\n",
       "         [ 0.9645, -0.7037, -1.4357, -0.5062, -0.7849, -0.5811],\n",
       "         [-1.4357, -0.5062, -0.7849, -0.5811,  0.8678, -0.1341],\n",
       "         [-0.7849, -0.5811,  0.8678, -0.1341, -0.7849, -0.5811],\n",
       "         [ 0.8678, -0.1341, -0.7849, -0.5811,  0.1896,  1.1851],\n",
       "         [ 0.6540, -0.4395,  0.6540, -0.4395,  0.6540, -0.4395],\n",
       "         [ 0.6540, -0.4395,  0.6540, -0.4395,  0.1896,  1.1851],\n",
       "         [ 0.6540, -0.4395,  0.1896,  1.1851,  0.8678, -0.1341],\n",
       "         [ 0.1896,  1.1851,  0.8678, -0.1341,  0.1896,  1.1851]]),\n",
       " torch.Size([16, 6]))"
      ]
     },
     "execution_count": 201,
     "metadata": {},
     "output_type": "execute_result"
    }
   ],
   "source": [
    "# a better way to create conc_emb is to use the unbind method\n",
    "# it removes a dimension exactly like [emb[:,i,:] for i in range(block_size)]\n",
    "\n",
    "#Ex : \n",
    "M = [\n",
    "    [1, 2, 3],\n",
    "    [4, 5, 6],\n",
    "    [7, 8, 9]\n",
    "]\n",
    "\n",
    "test_rows = torch.unbind(torch.tensor(M), 0) \n",
    "test_col = torch.unbind(torch.tensor(M), 1)\n",
    "\n",
    "print(test_rows)\n",
    "print(test_col)\n",
    "\n",
    "conc_emb = torch.cat(torch.unbind(emb, 1), 1)\n",
    "conc_emb, conc_emb.shape\n",
    " "
   ]
  },
  {
   "cell_type": "code",
   "execution_count": null,
   "metadata": {},
   "outputs": [
    {
     "name": "stdout",
     "output_type": "stream",
     "text": [
      "tensor([ 0,  1,  2,  3,  4,  5,  6,  7,  8,  9, 10, 11, 12, 13, 14, 15, 16, 17]) torch.Size([18])\n",
      "tensor([[ 0,  1,  2,  3,  4,  5,  6,  7,  8],\n",
      "        [ 9, 10, 11, 12, 13, 14, 15, 16, 17]])\n",
      "tensor([[[ 0,  1],\n",
      "         [ 2,  3],\n",
      "         [ 4,  5]],\n",
      "\n",
      "        [[ 6,  7],\n",
      "         [ 8,  9],\n",
      "         [10, 11]],\n",
      "\n",
      "        [[12, 13],\n",
      "         [14, 15],\n",
      "         [16, 17]]])\n"
     ]
    },
    {
     "data": {
      "text/plain": [
       " 0\n",
       " 1\n",
       " 2\n",
       " 3\n",
       " 4\n",
       " 5\n",
       " 6\n",
       " 7\n",
       " 8\n",
       " 9\n",
       " 10\n",
       " 11\n",
       " 12\n",
       " 13\n",
       " 14\n",
       " 15\n",
       " 16\n",
       " 17\n",
       "[torch.storage.TypedStorage(dtype=torch.int64, device=cpu) of size 18]"
      ]
     },
     "execution_count": 210,
     "metadata": {},
     "output_type": "execute_result"
    }
   ],
   "source": [
    "# 3rd method : view method (like reshape in numpy)\n",
    "\n",
    "a = torch.arange(18)\n",
    "print(a, a.shape)\n",
    "\n",
    "print(a.view(2,9))\n",
    "print(a.view(3,3,2))\n",
    "\n",
    "# we can reshape the tensor the way we wan't as long as the size is conserved\n",
    "# It's extremely efficient thanks to the inner workings of torch\n",
    "# Because each vector has a storage, which is the list of all its elements\n",
    "# This is fixed and only its representation changes\n",
    "# So we don't change/create/delete memory when using .view()\n",
    "a.storage()\n",
    "\n",
    "# whereas when we concatenate using bind, we create a whole new tensor with new storage --> inneficient"
   ]
  },
  {
   "cell_type": "code",
   "execution_count": null,
   "metadata": {},
   "outputs": [
    {
     "name": "stdout",
     "output_type": "stream",
     "text": [
      "tensor([[ 0.6540, -0.4395,  0.6540, -0.4395,  0.6540, -0.4395],\n",
      "        [ 0.6540, -0.4395,  0.6540, -0.4395,  0.2328,  1.6438],\n",
      "        [ 0.6540, -0.4395,  0.2328,  1.6438, -1.6467, -1.9367],\n",
      "        [ 0.2328,  1.6438, -1.6467, -1.9367, -1.6467, -1.9367],\n",
      "        [-1.6467, -1.9367, -1.6467, -1.9367,  0.1896,  1.1851],\n",
      "        [ 0.6540, -0.4395,  0.6540, -0.4395,  0.6540, -0.4395],\n",
      "        [ 0.6540, -0.4395,  0.6540, -0.4395,  0.9645, -0.7037],\n",
      "        [ 0.6540, -0.4395,  0.9645, -0.7037, -1.4357, -0.5062],\n",
      "        [ 0.9645, -0.7037, -1.4357, -0.5062, -0.7849, -0.5811],\n",
      "        [-1.4357, -0.5062, -0.7849, -0.5811,  0.8678, -0.1341],\n",
      "        [-0.7849, -0.5811,  0.8678, -0.1341, -0.7849, -0.5811],\n",
      "        [ 0.8678, -0.1341, -0.7849, -0.5811,  0.1896,  1.1851],\n",
      "        [ 0.6540, -0.4395,  0.6540, -0.4395,  0.6540, -0.4395],\n",
      "        [ 0.6540, -0.4395,  0.6540, -0.4395,  0.1896,  1.1851],\n",
      "        [ 0.6540, -0.4395,  0.1896,  1.1851,  0.8678, -0.1341],\n",
      "        [ 0.1896,  1.1851,  0.8678, -0.1341,  0.1896,  1.1851]]) torch.Size([16, 6])\n"
     ]
    },
    {
     "data": {
      "text/plain": [
       "(tensor([[-0.5717, -0.0940,  0.0099,  ...,  0.2800,  0.4531,  0.1712],\n",
       "         [-2.1210, -5.3680,  0.9497,  ..., -0.9048,  0.5406,  0.6014],\n",
       "         [ 1.9189,  7.0419,  0.4684,  ...,  4.3584,  2.8935,  2.1384],\n",
       "         ...,\n",
       "         [-1.7690, -4.1292,  0.8406,  ..., -0.5044,  0.5535,  0.4422],\n",
       "         [ 0.2224,  0.4346, -0.6368,  ...,  0.0827,  2.0469,  3.1713],\n",
       "         [-1.9091, -3.7511, -0.9479,  ..., -0.7523, -0.1957, -2.5487]]),\n",
       " torch.Size([16, 100]))"
      ]
     },
     "execution_count": 220,
     "metadata": {},
     "output_type": "execute_result"
    }
   ],
   "source": [
    "# let's use that to solve our original pb i.e multiply emb and W1\n",
    "conc_emb = emb.view(emb.shape[0], input_size)\n",
    "print(conc_emb, conc_emb.shape) # once again the same matrix \n",
    "\n",
    "h = conc_emb @ W1 + b1 # 16x6 @ (3*2)x100 + 100 = len(X)x(block_size*emb_dim) @ (block_size*emb_dim)x(nbr_neurons_1) + nbr_neurons_1\n",
    "h, h.shape\n",
    "# i.e., this is the list of outputs from the linear transformation for each example in X for each of our 100 neurons in the hidden layer"
   ]
  },
  {
   "cell_type": "code",
   "execution_count": null,
   "metadata": {},
   "outputs": [
    {
     "data": {
      "text/plain": [
       "tensor([[-0.5166, -0.0937,  0.0098,  ...,  0.2729,  0.4244,  0.1695],\n",
       "        [-0.9717, -1.0000,  0.7397,  ..., -0.7186,  0.4934,  0.5380],\n",
       "        [ 0.9578,  1.0000,  0.4369,  ...,  0.9997,  0.9939,  0.9726],\n",
       "        ...,\n",
       "        [-0.9435, -0.9995,  0.6861,  ..., -0.4656,  0.5031,  0.4155],\n",
       "        [ 0.2188,  0.4091, -0.5627,  ...,  0.0825,  0.9672,  0.9965],\n",
       "        [-0.9570, -0.9989, -0.7388,  ..., -0.6365, -0.1933, -0.9878]])"
      ]
     },
     "execution_count": 221,
     "metadata": {},
     "output_type": "execute_result"
    }
   ],
   "source": [
    "h = torch.tanh(h) # non linear transformation \n",
    "h"
   ]
  },
  {
   "cell_type": "code",
   "execution_count": null,
   "metadata": {},
   "outputs": [
    {
     "data": {
      "text/plain": [
       "(tensor([[ -3.5496,  -9.3670,   8.6712, -13.6332,  -7.4738,  -6.7669,  -0.5470,\n",
       "           -2.8845,   6.2842,  -4.2071, -11.6868,   2.3694,   2.0250,  -3.8473,\n",
       "           -8.6834,   6.3667,  -3.4339,   7.9852,  -5.6332,  12.0850,  -1.2778,\n",
       "            7.6859,  -3.2006,  -8.7749, -10.6890,  11.0093,  -1.1583],\n",
       "         [ -8.6460,  -7.9001,  12.4981,   2.5935,   6.7613,   0.5031,  -5.1183,\n",
       "            8.4441,  -4.0614,  -8.1566,   2.6357,   2.0751,   6.5486,   7.6617,\n",
       "           -5.2188,   3.8316,  -3.4530,  -3.5067,  -4.6444,   0.1100,  -2.7529,\n",
       "           -6.6181,  10.2301,   4.6632,   9.6561,  15.7826, -17.4793],\n",
       "         [ -3.1782, -11.9658,  -8.1321,  -5.7926, -12.6076,  -3.1866,   6.8975,\n",
       "           -5.1965,   5.1844,  -0.4907,  -2.4832,  -0.1741,  -7.6713, -11.4869,\n",
       "          -13.6587,  -7.5921,   4.1567,  14.0303,  -0.6076,   6.4581, -18.0922,\n",
       "           16.1184,  -9.2414,   3.2319, -15.3715,  -1.8448,   1.6153],\n",
       "         [  4.9805,  -0.1910, -11.4569,   2.4758,   4.3639,  12.6290,  -1.7157,\n",
       "           -2.3737,  -2.7805,  12.8382, -19.7595,  -1.4640, -11.7097, -12.9388,\n",
       "           -3.2910,   4.4576,  11.6831,   1.5758,   1.7818,   6.8760,  -2.0774,\n",
       "            0.5329,  -1.2600, -10.1197,  -4.6412, -19.1190,  -6.4484],\n",
       "         [ 11.5823,  14.7894,   9.8306,  -3.6948,  19.2421,   9.7672, -12.0182,\n",
       "           -3.8007,  12.3516,  -7.9409,   0.3889,  -7.5481,   3.3246,  -1.1592,\n",
       "           11.2763,  -8.5536,  -4.1814, -16.1110,  -6.1755,   1.4868,   4.1575,\n",
       "           15.3230,   7.3192,   2.7325,  11.1380,   0.8044, -15.6403],\n",
       "         [ -3.5496,  -9.3670,   8.6712, -13.6332,  -7.4738,  -6.7669,  -0.5470,\n",
       "           -2.8845,   6.2842,  -4.2071, -11.6868,   2.3694,   2.0250,  -3.8473,\n",
       "           -8.6834,   6.3667,  -3.4339,   7.9852,  -5.6332,  12.0850,  -1.2778,\n",
       "            7.6859,  -3.2006,  -8.7749, -10.6890,  11.0093,  -1.1583],\n",
       "         [  0.4409,  -6.0153,   5.9140, -14.4977,  -6.8374,  -9.5282,  -0.6417,\n",
       "           -6.1346,   6.3076,  -4.3435, -12.4489,   0.0495,   4.2913,  -3.7170,\n",
       "           -4.5406,   7.7815,  -6.3812,   6.2101,  -5.8007,  15.4310,  -2.3314,\n",
       "            8.1450,  -3.0940, -14.9724, -12.2642,  12.1989,   3.3943],\n",
       "         [ -8.0757,  -9.1572,  -2.0064,  -5.7728,  -2.2319,  -1.2189,   5.9995,\n",
       "           -4.1158,  -1.3464,   2.6605,  -7.9319,  -1.0010,   0.9058,  -7.3067,\n",
       "           -8.0835,  -5.8122,  -0.3257,  16.5169,   5.9029,   0.3523,  -5.2336,\n",
       "            6.9090,  -2.3763,   6.0266,  -9.4084,   2.1732, -11.2515],\n",
       "         [  3.6742,  -5.8146,  -3.3494,  -1.0937,  -1.2923,  10.4616, -13.3338,\n",
       "            5.7541,   6.2927,   0.2917,  -1.2804,   3.1529,  -7.0371,   1.6155,\n",
       "          -11.1342,   3.1439,  -3.3349,   1.6766,   6.0618,   6.9831,   1.0873,\n",
       "            5.1517,  -3.3651,  -1.4329,   0.9845,  -3.2602,   1.9014],\n",
       "         [ 18.3589,  24.8139,  -0.1938,  -5.3540,  14.6024,   3.3838, -11.1499,\n",
       "           -6.2072,   6.3389,  -7.4589,   2.5188, -11.2917,   3.9913,  -1.8430,\n",
       "            9.4626,   0.6742,   1.5727, -13.7688,  -4.3571,   1.1031,   3.0029,\n",
       "            8.8226,   6.7386,  -9.8362,   3.0851,  -7.8277,  -9.7436],\n",
       "         [ -5.8493,  -0.2507,  -6.3897, -14.0684,  -0.6578,   1.8829,   5.9685,\n",
       "           -6.2827,   5.6044,  -1.9692,  -3.4063,  -5.6016,  -2.4578,  -7.0850,\n",
       "           -7.9015, -12.5324,   0.9644,   1.1330,  -1.2393,  -0.3865,  -9.2648,\n",
       "           11.0517,  -2.1586,   2.0338, -15.0335,  -4.2399,  -8.9049],\n",
       "         [ -4.6133,  -3.4510,   8.6885,   1.9864,   1.4400,   7.2992,  -9.1236,\n",
       "           11.2382,   1.8384,  -3.1914,   3.4730,   8.3041,   2.0899,   4.4770,\n",
       "           -4.0818,   0.8528,  -3.4526,  -2.7511,  -1.5017,   2.8897,  -2.5952,\n",
       "           -5.7012,  10.4355,   2.7638,   1.3856,  13.5602, -11.3774],\n",
       "         [ -3.5496,  -9.3670,   8.6712, -13.6332,  -7.4738,  -6.7669,  -0.5470,\n",
       "           -2.8845,   6.2842,  -4.2071, -11.6868,   2.3694,   2.0250,  -3.8473,\n",
       "           -8.6834,   6.3667,  -3.4339,   7.9852,  -5.6332,  12.0850,  -1.2778,\n",
       "            7.6859,  -3.2006,  -8.7749, -10.6890,  11.0093,  -1.1583],\n",
       "         [-10.1108,  -7.0691,  13.2686,   0.6626,   4.7781,   0.9944,  -3.6813,\n",
       "            6.7154,  -4.0918,  -6.4019,  -0.6875,   3.0408,   4.0684,   5.2649,\n",
       "           -7.2616,   3.3744,  -1.8181,  -2.1301,  -5.3470,   1.4736,  -2.8708,\n",
       "           -3.7151,   9.0919,   3.1656,   3.2401,  13.0493, -16.7741],\n",
       "         [ -5.4241,  -5.4881,   4.8612,   0.0283,  -1.9094,  -9.2731,  -2.4027,\n",
       "           10.9451,   3.5227,   1.3489,   7.5595,  10.0678,   2.4454,   1.8360,\n",
       "          -11.6724,   1.6421,   0.4915,   0.7003, -11.3530,   3.2214, -10.1067,\n",
       "            2.3731,   1.2577,  -6.2925, -15.5485,  14.6857,   2.3745],\n",
       "         [ -8.5694,  -2.9728,   4.3642,  11.9477,   7.5578,   4.8660,   0.7376,\n",
       "            6.5319, -12.4543,   3.0443,   4.7785,   6.5029,   4.4221,   0.4955,\n",
       "            1.5762,  -0.6132,   4.8722,  -1.1896,  -7.9425,  -8.7573,   4.7130,\n",
       "          -15.3900,   9.7623,  14.1841,   6.6901,  -3.1044, -21.9486]]),\n",
       " torch.Size([16, 27]))"
      ]
     },
     "execution_count": 223,
     "metadata": {},
     "output_type": "execute_result"
    }
   ],
   "source": [
    "# Let's build the second hidden layer\n",
    "nbr_neurons_2 = 27 # because we have 27 chars\n",
    "W2 = torch.randn((100, 27))\n",
    "b2 = torch.randn(27)\n",
    "\n",
    "logits = h @ W2 + b2 \n",
    "logits, logits.shape\n",
    "\n",
    "# for each example, we have 27 outputs. But we wan't probabilities "
   ]
  },
  {
   "cell_type": "code",
   "execution_count": 245,
   "metadata": {},
   "outputs": [
    {
     "name": "stdout",
     "output_type": "stream",
     "text": [
      "torch.Size([16, 27])\n",
      "tensor([[1.1507e-07, 3.4237e-10, 2.3357e-02, 4.8054e-12, 2.2737e-09, 4.6100e-09,\n",
      "         2.3172e-06, 2.2378e-07, 2.1466e-03, 5.9626e-08, 3.3654e-11, 4.2810e-05,\n",
      "         3.0337e-05, 8.5440e-08, 6.7824e-10, 2.3311e-03, 1.2919e-07, 1.1762e-02,\n",
      "         1.4325e-08, 7.0960e-01, 1.1158e-06, 8.7191e-03, 1.6313e-07, 6.1892e-10,\n",
      "         9.1278e-11, 2.4201e-01, 1.2574e-06],\n",
      "        [2.3540e-11, 4.9631e-11, 3.5857e-02, 1.7909e-06, 1.1565e-04, 2.2142e-07,\n",
      "         8.0144e-10, 6.2220e-04, 2.3062e-09, 3.8403e-11, 1.8681e-06, 1.0664e-06,\n",
      "         9.3490e-05, 2.8455e-04, 7.2480e-10, 6.1766e-06, 4.2373e-09, 4.0158e-09,\n",
      "         1.2873e-09, 1.4945e-07, 8.5340e-09, 1.7887e-10, 3.7120e-03, 1.4188e-05,\n",
      "         2.0908e-03, 9.5720e-01, 3.4319e-15],\n",
      "        [3.7051e-09, 5.6544e-13, 2.6141e-11, 2.7125e-10, 2.9761e-13, 3.6740e-09,\n",
      "         8.8024e-05, 4.9235e-10, 1.5872e-05, 5.4446e-08, 7.4243e-09, 7.4728e-08,\n",
      "         4.1444e-11, 9.1282e-13, 1.0404e-13, 4.4861e-11, 5.6795e-06, 1.1025e-01,\n",
      "         4.8440e-08, 5.6728e-05, 1.2352e-15, 8.8959e-01, 8.6213e-12, 2.2525e-06,\n",
      "         1.8763e-14, 1.4057e-08, 4.4728e-07],\n",
      "        [1.8160e-04, 1.0308e-06, 1.3196e-11, 1.4836e-05, 9.8020e-05, 3.8089e-01,\n",
      "         2.2438e-07, 1.1621e-07, 7.7369e-08, 4.6956e-01, 3.2710e-15, 2.8861e-07,\n",
      "         1.0248e-11, 2.9983e-12, 4.6433e-08, 1.0765e-04, 1.4792e-01, 6.0320e-06,\n",
      "         7.4118e-06, 1.2087e-03, 1.5628e-07, 2.1259e-06, 3.5393e-07, 5.0257e-11,\n",
      "         1.2036e-08, 6.2062e-15, 1.9752e-09],\n",
      "        [4.5602e-04, 1.1267e-02, 7.9108e-05, 1.0573e-10, 9.6729e-01, 7.4244e-05,\n",
      "         2.5668e-14, 9.5109e-11, 9.8415e-04, 1.5141e-12, 6.2769e-09, 2.2424e-12,\n",
      "         1.1822e-07, 1.3348e-09, 3.3580e-04, 8.2046e-13, 6.4996e-11, 4.2847e-16,\n",
      "         8.8478e-12, 1.8817e-08, 2.7192e-07, 1.9211e-02, 6.4198e-06, 6.5398e-08,\n",
      "         2.9242e-04, 9.5104e-09, 6.8602e-16],\n",
      "        [1.1507e-07, 3.4237e-10, 2.3357e-02, 4.8054e-12, 2.2737e-09, 4.6100e-09,\n",
      "         2.3172e-06, 2.2378e-07, 2.1466e-03, 5.9626e-08, 3.3654e-11, 4.2810e-05,\n",
      "         3.0337e-05, 8.5440e-08, 6.7824e-10, 2.3311e-03, 1.2919e-07, 1.1762e-02,\n",
      "         1.4325e-08, 7.0960e-01, 1.1158e-06, 8.7191e-03, 1.6313e-07, 6.1892e-10,\n",
      "         9.1278e-11, 2.4201e-01, 1.2574e-06],\n",
      "        [2.9679e-07, 4.6616e-10, 7.0694e-05, 9.6535e-14, 2.0488e-10, 1.3897e-11,\n",
      "         1.0052e-07, 4.1376e-10, 1.0478e-04, 2.4809e-09, 7.4895e-13, 2.0066e-07,\n",
      "         1.3952e-05, 4.6417e-09, 2.0371e-09, 4.5752e-04, 3.2333e-10, 9.5054e-05,\n",
      "         5.7777e-10, 9.6067e-01, 1.8554e-08, 6.5811e-04, 8.6545e-09, 6.0049e-14,\n",
      "         9.0096e-13, 3.7920e-02, 5.6899e-06],\n",
      "        [2.0870e-11, 7.0763e-12, 9.0238e-09, 2.0876e-10, 7.2015e-09, 1.9833e-08,\n",
      "         2.7059e-05, 1.0947e-09, 1.7459e-08, 9.5981e-07, 2.4097e-11, 2.4661e-08,\n",
      "         1.6600e-07, 4.5029e-11, 2.0708e-11, 2.0070e-10, 4.8447e-08, 9.9985e-01,\n",
      "         2.4566e-05, 9.5443e-08, 3.5794e-10, 6.7187e-05, 6.2337e-09, 2.7802e-05,\n",
      "         5.5047e-12, 5.8958e-07, 8.7149e-13],\n",
      "        [1.0485e-03, 7.9361e-08, 9.3380e-07, 8.9097e-06, 7.3052e-06, 9.2958e-01,\n",
      "         4.3061e-11, 8.3917e-03, 1.4380e-02, 3.5608e-05, 7.3924e-06, 6.2250e-04,\n",
      "         2.3371e-08, 1.3380e-04, 3.8846e-10, 6.1696e-04, 9.4740e-07, 1.4224e-04,\n",
      "         1.1414e-02, 2.8679e-02, 7.8896e-05, 4.5944e-03, 9.1923e-07, 6.3469e-06,\n",
      "         7.1193e-05, 1.0209e-06, 1.7808e-04],\n",
      "        [1.5700e-03, 9.9839e-01, 1.3759e-11, 7.8980e-14, 3.6687e-05, 4.9240e-10,\n",
      "         2.4012e-16, 3.3650e-14, 9.4556e-09, 9.6249e-15, 2.0732e-10, 2.0837e-16,\n",
      "         9.0397e-10, 2.6446e-12, 2.1494e-07, 3.2775e-11, 8.0496e-11, 1.7500e-17,\n",
      "         2.1403e-13, 5.0331e-11, 3.3643e-10, 1.1334e-07, 1.4103e-08, 8.9321e-16,\n",
      "         3.6525e-10, 6.6558e-15, 9.7989e-16],\n",
      "        [4.5219e-08, 1.2211e-05, 2.6339e-08, 1.2184e-11, 8.1273e-06, 1.0312e-04,\n",
      "         6.1337e-03, 2.9315e-08, 4.2618e-03, 2.1898e-06, 5.2033e-07, 5.7928e-08,\n",
      "         1.3435e-06, 1.3141e-08, 5.8081e-09, 5.6609e-11, 4.1158e-05, 4.8717e-05,\n",
      "         4.5437e-06, 1.0660e-05, 1.4859e-09, 9.8925e-01, 1.8120e-06, 1.1992e-04,\n",
      "         4.6413e-12, 2.2609e-07, 2.1295e-09],\n",
      "        [1.1066e-08, 3.5381e-08, 6.6205e-03, 8.1322e-06, 4.7090e-06, 1.6501e-03,\n",
      "         1.2168e-10, 8.4766e-02, 7.0136e-06, 4.5868e-08, 3.5961e-05, 4.5076e-03,\n",
      "         9.0190e-06, 9.8142e-05, 1.8829e-08, 2.6175e-06, 3.5324e-08, 7.1246e-08,\n",
      "         2.4851e-07, 2.0067e-05, 8.3260e-08, 3.7286e-09, 3.7985e-02, 1.7694e-05,\n",
      "         4.4595e-06, 8.6426e-01, 1.2776e-11],\n",
      "        [1.1507e-07, 3.4237e-10, 2.3357e-02, 4.8054e-12, 2.2737e-09, 4.6100e-09,\n",
      "         2.3172e-06, 2.2378e-07, 2.1466e-03, 5.9626e-08, 3.3654e-11, 4.2810e-05,\n",
      "         3.0337e-05, 8.5440e-08, 6.7824e-10, 2.3311e-03, 1.2919e-07, 1.1762e-02,\n",
      "         1.4325e-08, 7.0960e-01, 1.1158e-06, 8.7191e-03, 1.6313e-07, 6.1892e-10,\n",
      "         9.1278e-11, 2.4201e-01, 1.2574e-06],\n",
      "        [3.8569e-11, 8.0765e-10, 5.4923e-01, 1.8410e-06, 1.1283e-04, 2.5653e-06,\n",
      "         2.3906e-08, 7.8301e-04, 1.5858e-08, 1.5739e-09, 4.7721e-07, 1.9857e-05,\n",
      "         5.5485e-05, 1.8358e-04, 6.6625e-10, 2.7720e-05, 1.5406e-07, 1.1277e-07,\n",
      "         4.5199e-09, 4.1424e-06, 5.3769e-08, 2.3113e-08, 8.4303e-03, 2.2495e-05,\n",
      "         2.4236e-05, 4.4110e-01, 4.9250e-14],\n",
      "        [1.7851e-09, 1.6745e-09, 5.2300e-05, 4.1650e-07, 5.9989e-08, 3.8027e-11,\n",
      "         3.6630e-08, 2.2946e-02, 1.3715e-05, 1.5601e-06, 7.7692e-04, 9.5438e-03,\n",
      "         4.6702e-06, 2.5391e-06, 3.4521e-12, 2.0917e-06, 6.6187e-07, 8.1559e-07,\n",
      "         4.7511e-12, 1.0148e-05, 1.6522e-11, 4.3445e-06, 1.4240e-06, 7.4909e-10,\n",
      "         7.1567e-14, 9.6663e-01, 4.3506e-06],\n",
      "        [1.1702e-10, 3.1537e-08, 4.8440e-05, 9.5212e-02, 1.1808e-03, 8.0013e-05,\n",
      "         1.2888e-06, 4.2330e-04, 2.4045e-12, 1.2942e-05, 7.3308e-05, 4.1118e-04,\n",
      "         5.1330e-05, 1.0118e-06, 2.9813e-06, 3.3385e-07, 8.0510e-05, 1.8761e-07,\n",
      "         2.1901e-10, 9.6972e-11, 6.8661e-05, 1.2767e-13, 1.0704e-02, 8.9115e-01,\n",
      "         4.9583e-04, 2.7648e-08, 1.8102e-16]])\n"
     ]
    },
    {
     "data": {
      "text/plain": [
       "tensor([[1.0000],\n",
       "        [1.0000],\n",
       "        [1.0000],\n",
       "        [1.0000],\n",
       "        [1.0000],\n",
       "        [1.0000],\n",
       "        [1.0000],\n",
       "        [1.0000],\n",
       "        [1.0000],\n",
       "        [1.0000],\n",
       "        [1.0000],\n",
       "        [1.0000],\n",
       "        [1.0000],\n",
       "        [1.0000],\n",
       "        [1.0000],\n",
       "        [1.0000]])"
      ]
     },
     "execution_count": 245,
     "metadata": {},
     "output_type": "execute_result"
    }
   ],
   "source": [
    "# Thus, we (manually) create the softmax\n",
    "\n",
    "counts = logits.exp()\n",
    "prob = counts/counts.sum(1, keepdims=True)\n",
    "print(prob.shape)\n",
    "print(prob)\n",
    "prob.sum(1, keepdim=True) # we see that each row sums to 1 (these are probability distributions as we wanted)"
   ]
  },
  {
   "cell_type": "code",
   "execution_count": null,
   "metadata": {},
   "outputs": [
    {
     "name": "stdout",
     "output_type": "stream",
     "text": [
      "tensor([4.6100e-09, 2.8455e-04, 9.1282e-13, 1.0308e-06, 4.5602e-04, 2.3311e-03,\n",
      "        1.3952e-05, 9.5981e-07, 9.1923e-07, 9.6249e-15, 1.2211e-05, 1.1066e-08,\n",
      "        3.4237e-10, 8.4303e-03, 1.6745e-09, 1.1702e-10])\n"
     ]
    },
    {
     "data": {
      "text/plain": [
       "tensor(15.8195)"
      ]
     },
     "execution_count": 249,
     "metadata": {},
     "output_type": "execute_result"
    }
   ],
   "source": [
    "print(prob[torch.arange(X.shape[0]), Y]) # tensor of the probabilities of the correct following chars \n",
    "\n",
    "loss = -prob[torch.arange(X.shape[0]), Y].log().mean() # negative log likelihood ~ cross_entropy\n",
    "loss\n",
    "\n",
    "# It's less efficient to implement ourselves the cross entropy loss (no memory re allocation, explicit gradient form = better backward pass, NaN handling...)"
   ]
  },
  {
   "cell_type": "markdown",
   "metadata": {},
   "source": [
    "### Recap up to this point and training\n",
    "\n",
    "We re implement the model in a condensed way and train it using backpropagation."
   ]
  },
  {
   "cell_type": "code",
   "execution_count": 250,
   "metadata": {},
   "outputs": [
    {
     "data": {
      "text/plain": [
       "(torch.Size([16, 3]), torch.Size([16]))"
      ]
     },
     "execution_count": 250,
     "metadata": {},
     "output_type": "execute_result"
    }
   ],
   "source": [
    "X.shape, Y.shape # dataset"
   ]
  },
  {
   "cell_type": "code",
   "execution_count": null,
   "metadata": {},
   "outputs": [],
   "source": [
    "# hyper parameters\n",
    "emb_dim = 2\n",
    "block_size = 3\n",
    "nbr_neurons = 100\n",
    "step = 0.1\n",
    "\n",
    "# constants\n",
    "nbr_chars = 27"
   ]
  },
  {
   "cell_type": "code",
   "execution_count": 387,
   "metadata": {},
   "outputs": [],
   "source": [
    "g = torch.Generator().manual_seed(2147483647) # for reproducibility\n",
    "C = torch.randn((nbr_chars, 2), generator=g)\n",
    "W1 = torch.randn((emb_dim*block_size, nbr_neurons), generator=g)\n",
    "b1 = torch.randn(nbr_neurons, generator=g)\n",
    "W2 = torch.randn((nbr_neurons, nbr_chars), generator=g)\n",
    "b2 = torch.randn(nbr_chars, generator=g)\n",
    "parameters = [C, W1, b1, W2, b2]"
   ]
  },
  {
   "cell_type": "code",
   "execution_count": 353,
   "metadata": {},
   "outputs": [
    {
     "data": {
      "text/plain": [
       "3481"
      ]
     },
     "execution_count": 353,
     "metadata": {},
     "output_type": "execute_result"
    }
   ],
   "source": [
    "sum([p.nelement() for p in parameters])"
   ]
  },
  {
   "cell_type": "code",
   "execution_count": 354,
   "metadata": {},
   "outputs": [
    {
     "name": "stdout",
     "output_type": "stream",
     "text": [
      "19.505229949951172\n",
      "17.084487915039062\n",
      "15.776532173156738\n",
      "14.833340644836426\n",
      "14.002604484558105\n",
      "13.253260612487793\n",
      "12.579916954040527\n",
      "11.983101844787598\n",
      "11.470492362976074\n",
      "11.05185604095459\n"
     ]
    }
   ],
   "source": [
    "# The training / optimization \n",
    "for p in parameters:\n",
    "    p.requires_grad = True # so that the gradient descent concerns all the params \n",
    "\n",
    "for _ in range(10):\n",
    "    # Forward pass \n",
    "    emb = C[X] #(16, 3, 2)\n",
    "    h = torch.tanh(emb.view(-1,6) @ W1 + b1)\n",
    "    logits = h @ W2 + b2\n",
    "    loss = F.cross_entropy(logits,Y) \n",
    "    print(loss.item())\n",
    "\n",
    "    # Backward pass\n",
    "    for p in parameters:\n",
    "        p.grad = None # reset the gradients more efficiently than setting them to 0\n",
    "\n",
    "    loss.backward()\n",
    "\n",
    "    # update\n",
    "    for p in parameters:\n",
    "        p.data += -step * p.grad \n",
    "    \n",
    "# It's that good because we are overfitting 16 examples "
   ]
  },
  {
   "cell_type": "code",
   "execution_count": 364,
   "metadata": {},
   "outputs": [
    {
     "name": "stdout",
     "output_type": "stream",
     "text": [
      "torch.Size([228146, 3])\n",
      "torch.Size([228146])\n"
     ]
    }
   ],
   "source": [
    "# Let's now create X and Y with all the words \n",
    "\n",
    "X,Y = [], []\n",
    "for w in words:\n",
    "    context = [0] * block_size # create the empty list of appropriate size 0's are \".\"\n",
    "    for ch in w + '.': # add a dot at the end of the word \n",
    "        ix = stoi[ch] # retrieve the index of the ch\n",
    "        X.append(context) \n",
    "        Y.append(ix) # target is the index of the ch\n",
    "        context = context[1:] + [ix] # crop to the left and add the next index to the right \n",
    "\n",
    "X = torch.tensor(X)\n",
    "Y = torch.tensor(Y)\n",
    "print(X.shape)\n",
    "print(Y.shape)"
   ]
  },
  {
   "cell_type": "code",
   "execution_count": 356,
   "metadata": {},
   "outputs": [
    {
     "name": "stdout",
     "output_type": "stream",
     "text": [
      "10.709586143493652\n",
      "10.407631874084473\n",
      "10.127808570861816\n",
      "9.864364624023438\n",
      "9.614501953125\n",
      "9.376440048217773\n",
      "9.148944854736328\n",
      "8.931110382080078\n",
      "8.722230911254883\n",
      "8.521748542785645\n"
     ]
    }
   ],
   "source": [
    "# We now train on the whole dataset \n",
    "for p in parameters:\n",
    "    p.requires_grad = True # so that the gradient descent concerns all the params \n",
    "\n",
    "for _ in range(10):\n",
    "    # Forward pass \n",
    "    emb = C[X] #(16, 3, 2)\n",
    "    h = torch.tanh(emb.view(-1,6) @ W1 + b1) \n",
    "    logits = h @ W2 + b2\n",
    "    loss = F.cross_entropy(logits,Y) \n",
    "    print(loss.item())\n",
    "\n",
    "    # Backward pass\n",
    "    for p in parameters:\n",
    "        p.grad = None # reset the gradients more efficiently than setting them to 0\n",
    "\n",
    "    loss.backward()\n",
    "\n",
    "    # update\n",
    "    for p in parameters:\n",
    "        p.data += -step * p.grad \n",
    "\n",
    "# We notice that the loss decreases much more slowly\n",
    "# Also, each iteration takes time, we will use minibatching to adress that"
   ]
  },
  {
   "cell_type": "markdown",
   "metadata": {},
   "source": [
    "### Mini batch training\n",
    "\n",
    "The idea of mini batch training is to train the model on a small random subset of the data at a time.\n",
    "\n",
    "The model is trained on the subset, and the weights are updated.\n",
    "\n",
    "It is used because it balances the trade-off between the efficiency of stochastic gradient descent (SGD) and the stability of full-batch gradient descent.\n",
    "\n",
    "It works because the mini-batch gradient is a good approximation of the full-batch gradient, and it is more computationally efficient than full-batch training.\n",
    "\n",
    "The randomness is responsible for the up and downs in the loss curve.\n",
    "\n",
    "Pros:\n",
    "\n",
    "- Faster convergence compared to full-batch training.\n",
    "- More stable updates compared to SGD.\n",
    "- Better utilization of hardware resources.\n",
    "\n",
    "Cons:\n",
    "\n",
    "- Requires tuning of the batch size.\n",
    "- May still be computationally expensive for very large datasets.\n",
    "- Can introduce noise in the gradient updates.\n",
    "\n",
    "#### Note : It's better to have an approximate of the gradient and make much more step than having the exact gradient and make less step."
   ]
  },
  {
   "cell_type": "code",
   "execution_count": 357,
   "metadata": {},
   "outputs": [
    {
     "name": "stdout",
     "output_type": "stream",
     "text": [
      "tensor([[16, 16,  5],\n",
      "        [ 1, 22,  5],\n",
      "        [ 0,  0,  1],\n",
      "        [12,  1, 14],\n",
      "        [20, 15, 14]]) torch.Size([32, 3])\n"
     ]
    },
    {
     "data": {
      "text/plain": [
       "(tensor([12, 14, 14,  7,  0]), torch.Size([]))"
      ]
     },
     "execution_count": 357,
     "metadata": {},
     "output_type": "execute_result"
    }
   ],
   "source": [
    "ixs = torch.randint(0, X.shape[0], (32,)) # tensor of batch_size integers \n",
    "print(X[ixs][:5], X[ixs].shape) # X[ixs] --> tensor of batch_size rows of X located by the random ixs\n",
    "Y[ixs][:5], Y[ix].shape # Corresponding ground thruths "
   ]
  },
  {
   "cell_type": "code",
   "execution_count": 358,
   "metadata": {},
   "outputs": [
    {
     "name": "stdout",
     "output_type": "stream",
     "text": [
      "8.882829666137695\n",
      "10.801115989685059\n",
      "7.943039894104004\n",
      "7.011079788208008\n",
      "6.5519490242004395\n",
      "8.30522632598877\n",
      "8.014720916748047\n",
      "6.466509819030762\n",
      "8.55371379852295\n",
      "5.900352478027344\n",
      "6.155949592590332\n",
      "5.29543924331665\n",
      "7.389379024505615\n",
      "7.275687217712402\n",
      "6.925985813140869\n",
      "6.389536380767822\n",
      "5.427316188812256\n",
      "6.787538051605225\n",
      "6.097088813781738\n",
      "6.806061744689941\n",
      "6.811946392059326\n",
      "5.4024200439453125\n",
      "5.4247965812683105\n",
      "6.2266411781311035\n",
      "5.264076232910156\n",
      "5.740921974182129\n",
      "6.0063910484313965\n",
      "5.455480575561523\n",
      "3.5943753719329834\n",
      "5.9935760498046875\n",
      "4.637293338775635\n",
      "5.897049903869629\n",
      "4.6142706871032715\n",
      "5.17737340927124\n",
      "5.170350074768066\n",
      "4.187561988830566\n",
      "4.823225975036621\n",
      "4.599111080169678\n",
      "5.0540452003479\n",
      "6.335184097290039\n",
      "4.921667575836182\n",
      "4.975425720214844\n",
      "4.037680625915527\n",
      "4.512980937957764\n",
      "3.8087456226348877\n",
      "4.570362091064453\n",
      "4.525307655334473\n",
      "5.6054205894470215\n",
      "3.865475654602051\n",
      "3.728961944580078\n",
      "4.128366947174072\n",
      "4.2855544090271\n",
      "4.192192077636719\n",
      "4.775416374206543\n",
      "4.4179911613464355\n",
      "4.5792365074157715\n",
      "5.105700492858887\n",
      "4.589016437530518\n",
      "4.051215171813965\n",
      "3.561842918395996\n",
      "4.856148719787598\n",
      "4.228247165679932\n",
      "4.208730220794678\n",
      "3.6258480548858643\n",
      "3.655904531478882\n",
      "4.177643775939941\n",
      "4.885800838470459\n",
      "3.772554874420166\n",
      "3.2321531772613525\n",
      "4.2859930992126465\n",
      "3.78456711769104\n",
      "3.5604658126831055\n",
      "3.2477521896362305\n",
      "3.266061782836914\n",
      "3.903806686401367\n",
      "4.28032922744751\n",
      "3.3951058387756348\n",
      "4.7256340980529785\n",
      "3.912018299102783\n",
      "5.218814373016357\n",
      "3.8787953853607178\n",
      "3.7417969703674316\n",
      "3.826277017593384\n",
      "3.2517592906951904\n",
      "3.229457139968872\n",
      "3.6092214584350586\n",
      "3.608813762664795\n",
      "3.083019256591797\n",
      "3.609510660171509\n",
      "3.5006191730499268\n",
      "3.4118459224700928\n",
      "3.7652828693389893\n",
      "3.3741021156311035\n",
      "3.762026786804199\n",
      "4.4716796875\n",
      "3.3823723793029785\n",
      "3.6158533096313477\n",
      "2.7840442657470703\n",
      "3.622673749923706\n",
      "3.677950382232666\n"
     ]
    },
    {
     "data": {
      "text/plain": [
       "tensor(3.6780, grad_fn=<NllLossBackward0>)"
      ]
     },
     "execution_count": 358,
     "metadata": {},
     "output_type": "execute_result"
    }
   ],
   "source": [
    "batch_size = 32\n",
    "\n",
    "def minibatch_training(n):\n",
    "    for p in parameters:\n",
    "        p.requires_grad = True # so that the gradient descent concerns all the params \n",
    "\n",
    "    for _ in range(n):\n",
    "        # minibatch construct \n",
    "        ixs = torch.randint(0, X.shape[0], (batch_size,)) \n",
    "\n",
    "        # Forward pass \n",
    "        emb = C[X[ixs]] \n",
    "        h = torch.tanh(emb.view(-1,6) @ W1 + b1) \n",
    "        logits = h @ W2 + b2\n",
    "        loss = F.cross_entropy(logits,Y[ixs]) \n",
    "        print(loss.item())\n",
    "\n",
    "        # Backward pass\n",
    "        for p in parameters:\n",
    "            p.grad = None # reset the gradients more efficiently than setting them to 0\n",
    "\n",
    "        loss.backward()\n",
    "\n",
    "        # update\n",
    "        for p in parameters:\n",
    "            p.data += -step * p.grad \n",
    "    \n",
    "    return loss \n",
    "minibatch_training(100)\n",
    "# Almost instantanous results with more iterations --> loss decreases faster "
   ]
  },
  {
   "cell_type": "code",
   "execution_count": 359,
   "metadata": {},
   "outputs": [
    {
     "name": "stdout",
     "output_type": "stream",
     "text": [
      "2.802981376647949\n",
      "3.690436601638794\n",
      "3.2263078689575195\n",
      "3.2670395374298096\n",
      "3.412766933441162\n",
      "3.9181673526763916\n",
      "3.072103500366211\n",
      "3.11832332611084\n",
      "4.5526862144470215\n",
      "3.1938815116882324\n",
      "3.3737168312072754\n",
      "2.32289719581604\n",
      "4.031500816345215\n",
      "3.0328867435455322\n",
      "3.6910505294799805\n",
      "2.7124459743499756\n",
      "2.8312764167785645\n",
      "3.4815785884857178\n",
      "3.9228270053863525\n",
      "3.3733465671539307\n",
      "2.983792304992676\n",
      "3.144747257232666\n",
      "3.1721560955047607\n",
      "2.836831569671631\n",
      "2.8461194038391113\n",
      "3.8860983848571777\n",
      "3.0092175006866455\n",
      "2.7988317012786865\n",
      "2.9723446369171143\n",
      "2.6722371578216553\n",
      "3.9351675510406494\n",
      "3.6244308948516846\n",
      "3.2615673542022705\n",
      "3.3399245738983154\n",
      "2.635676622390747\n",
      "3.102322578430176\n",
      "3.6025097370147705\n",
      "3.9648807048797607\n",
      "3.850877285003662\n",
      "3.863408327102661\n",
      "3.1851162910461426\n",
      "2.7407729625701904\n",
      "2.879758358001709\n",
      "3.1394248008728027\n",
      "3.421422243118286\n",
      "3.658778667449951\n",
      "3.513770341873169\n",
      "2.8710222244262695\n",
      "3.198704481124878\n",
      "3.5511605739593506\n",
      "3.2229716777801514\n",
      "2.8258988857269287\n",
      "3.5184624195098877\n",
      "3.8540799617767334\n",
      "2.6482388973236084\n",
      "3.2732253074645996\n",
      "2.3196768760681152\n",
      "3.446737766265869\n",
      "3.3548898696899414\n",
      "2.574795722961426\n",
      "3.898146152496338\n",
      "3.0311131477355957\n",
      "2.5640437602996826\n",
      "3.153818368911743\n",
      "3.8002090454101562\n",
      "2.4451026916503906\n",
      "3.6841466426849365\n",
      "2.766836404800415\n",
      "2.805248260498047\n",
      "2.903045177459717\n",
      "3.4769856929779053\n",
      "3.1448748111724854\n",
      "3.1199982166290283\n",
      "2.7536494731903076\n",
      "2.8278989791870117\n",
      "2.924605369567871\n",
      "3.3640730381011963\n",
      "3.057081699371338\n",
      "3.1062614917755127\n",
      "3.0786261558532715\n",
      "4.029455184936523\n",
      "3.2030203342437744\n",
      "3.4784464836120605\n",
      "3.601357936859131\n",
      "3.576498031616211\n",
      "3.4267067909240723\n",
      "3.42647385597229\n",
      "3.1850717067718506\n",
      "3.0637831687927246\n",
      "3.264193058013916\n",
      "4.027083873748779\n",
      "2.4061691761016846\n",
      "3.0946030616760254\n",
      "2.8248579502105713\n",
      "2.7807540893554688\n",
      "2.9689223766326904\n",
      "2.9105794429779053\n",
      "2.8260741233825684\n",
      "3.173436164855957\n",
      "3.2660951614379883\n"
     ]
    },
    {
     "data": {
      "text/plain": [
       "tensor(3.2661, grad_fn=<NllLossBackward0>)"
      ]
     },
     "execution_count": 359,
     "metadata": {},
     "output_type": "execute_result"
    }
   ],
   "source": [
    "minibatch_training(100)\n",
    "# converges to ~2.5 on mini batches "
   ]
  },
  {
   "cell_type": "code",
   "execution_count": 360,
   "metadata": {},
   "outputs": [
    {
     "name": "stdout",
     "output_type": "stream",
     "text": [
      "3.0183582305908203\n"
     ]
    }
   ],
   "source": [
    "# The loss on the whole data is : \n",
    "emb = C[X] \n",
    "h = torch.tanh(emb.view(-1,6) @ W1 + b1) \n",
    "logits = h @ W2 + b2\n",
    "loss = F.cross_entropy(logits,Y) \n",
    "print(loss.item())"
   ]
  },
  {
   "cell_type": "markdown",
   "metadata": {},
   "source": [
    "### Finding the optimal learning rate"
   ]
  },
  {
   "cell_type": "code",
   "execution_count": null,
   "metadata": {},
   "outputs": [
    {
     "data": {
      "text/plain": [
       "[<matplotlib.lines.Line2D at 0x1dc633ec5c0>]"
      ]
     },
     "execution_count": 388,
     "metadata": {},
     "output_type": "execute_result"
    },
    {
     "data": {
      "image/png": "[encoded data removed]",
      "text/plain": [
       "<Figure size 640x480 with 1 Axes>"
      ]
     },
     "metadata": {},
     "output_type": "display_data"
    }
   ],
   "source": [
    "\n",
    "# empirically, we see that above 1, it's not optimizing/unstable and below 0.001 it's too slow \n",
    "# So now, we will search over possible candidates \n",
    "lre = torch.linspace(-3, 0, 1000)\n",
    "lrs = 10**lre #from 0.001 to 1 exponentielly stepped \n",
    "\n",
    "lri = [] \n",
    "lossi = []\n",
    "for p in parameters:\n",
    "        p.requires_grad = True # so that the gradient descent concerns all the params \n",
    "\n",
    "for i in range(1000):\n",
    "    # minibatch construct \n",
    "    ixs = torch.randint(0, X.shape[0], (batch_size,)) \n",
    "\n",
    "    # Forward pass \n",
    "    emb = C[X[ixs]] \n",
    "    h = torch.tanh(emb.view(-1,6) @ W1 + b1) \n",
    "    logits = h @ W2 + b2\n",
    "    loss = F.cross_entropy(logits,Y[ixs]) \n",
    "\n",
    "    # Backward pass\n",
    "    for p in parameters:\n",
    "        p.grad = None # reset the gradients more efficiently than setting them to 0\n",
    "\n",
    "    loss.backward()\n",
    "\n",
    "    # update\n",
    "    lr = lrs[i]\n",
    "    for p in parameters:\n",
    "        p.data += -lr * p.grad \n",
    "\n",
    "    # track stats on lrs\n",
    "    lri.append(lr.item())\n",
    "    lossi.append(loss.item())\n",
    "\n",
    "\n",
    "plt.plot(lri, lossi)\n",
    "# we see that the optimal rate can be approximated \n",
    "# Here it's around 0.1\n",
    "# So we should set it at 0.1\n",
    "# Then, we can lower it as the nbr of iterations increases (learning rate decay)"
   ]
  }
 ],
 "metadata": {
  "kernelspec": {
   "display_name": "env",
   "language": "python",
   "name": "python3"
  },
  "language_info": {
   "codemirror_mode": {
    "name": "ipython",
    "version": 3
   },
   "file_extension": ".py",
   "mimetype": "text/x-python",
   "name": "python",
   "nbconvert_exporter": "python",
   "pygments_lexer": "ipython3",
   "version": "3.12.0"
  }
 },
 "nbformat": 4,
 "nbformat_minor": 2
}
