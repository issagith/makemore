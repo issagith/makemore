{
 "cells": [
  {
   "cell_type": "markdown",
   "metadata": {},
   "source": [
    "### Next character prediction using a multi layer perceptron\n",
    "\n",
    "From https://www.youtube.com/watch?v=TCH_1BHY58I&t=1174s&ab_channel=AndrejKarpathy \n",
    "\n",
    "Inspired by the Bengio et al. 2003 MLP language model paper (pdf): https://www.jmlr.org/papers/volume3/bengio03a/bengio03a.pdf\n",
    "### Next character prediction using a multi layer perceptron\n",
    "\n",
    "From https://www.youtube.com/watch?v=TCH_1BHY58I&t=1174s&ab_channel=AndrejKarpathy \n",
    "\n",
    "Inspired by the Bengio et al. 2003 MLP language model paper (pdf): https://www.jmlr.org/papers/volume3/bengio03a/bengio03a.pdf\n",
    "\n",
    "What's covered in this notebook:\n",
    "- how to train the model using mini-batch training and backpropagation\n",
    "- how to find the empirically find the optimal learning rate\n",
    "- how to split the data into train/val/test sets\n",
    "- the effect of a deeper hidden layer on the model\n",
    "- the effect of a larger embedding space on the model\n",
    "- how to visualize the embedding space\n",
    "- how to sample from the model\n",
    "- how to evaluate the model on unseen data\n"
   ]
  },
  {
   "cell_type": "code",
   "execution_count": 2,
   "metadata": {},
   "outputs": [],
   "source": [
    "import torch\n",
    "import torch.nn.functional as F\n",
    "import matplotlib.pyplot as plt # for making figures\n",
    "%matplotlib inline"
   ]
  },
  {
   "cell_type": "code",
   "execution_count": 3,
   "metadata": {},
   "outputs": [
    {
     "data": {
      "text/plain": [
       "['emma', 'olivia', 'ava', 'isabella', 'sophia']"
      ]
     },
     "execution_count": 3,
     "metadata": {},
     "output_type": "execute_result"
    }
   ],
   "source": [
    "words = open('names.txt', 'r').read().splitlines()\n",
    "words[:5]"
   ]
  },
  {
   "cell_type": "code",
   "execution_count": 4,
   "metadata": {},
   "outputs": [
    {
     "data": {
      "text/plain": [
       "32033"
      ]
     },
     "execution_count": 4,
     "metadata": {},
     "output_type": "execute_result"
    }
   ],
   "source": [
    "len(words)"
   ]
  },
  {
   "cell_type": "code",
   "execution_count": 5,
   "metadata": {},
   "outputs": [
    {
     "name": "stdout",
     "output_type": "stream",
     "text": [
      "{123, 23} <class 'set'> 2\n",
      "{1, 123, 23}\n",
      "{123, 23}\n",
      "True\n"
     ]
    }
   ],
   "source": [
    "# Notes on sets\n",
    "exSet = {23, 123, 23}\n",
    "print(exSet, type(exSet), len(exSet)) \n",
    "# set in python are unnordered collection of unique elements that's why the len of exSet is 2\n",
    "# as they are unnordered, they are not indexed \n",
    "# exSet[0] # doesn't work for that reason  \n",
    "# we can update them \n",
    "exSet.add(1)\n",
    "print(exSet)\n",
    "exSet.remove(1)\n",
    "print(exSet)\n",
    "# we can verify the existence of an element in the set\n",
    "print(123 in exSet)"
   ]
  },
  {
   "cell_type": "code",
   "execution_count": 6,
   "metadata": {},
   "outputs": [
    {
     "name": "stdout",
     "output_type": "stream",
     "text": [
      "<class 'enumerate'>\n",
      "0 a\n",
      "1 b\n",
      "2 c\n",
      "3 d\n",
      "<enumerate object at 0x00000242A1EB94E0>\n",
      "0 a\n",
      "1 b\n",
      "2 c\n",
      "3 d\n",
      "{'a': 0, 'b': 1, 'c': 2, 'd': 3}\n",
      "{'a': 0, 'b': 1, 'c': 2, 'd': 3}\n"
     ]
    }
   ],
   "source": [
    "# Notes on enumerate\n",
    "# it's used to add a counter on any subscriptable (such as a list) \n",
    "# and it returns this subscriptable as an enumerate object\n",
    "# An enumerate object can then be used to obtain both the value and the index \n",
    "\n",
    "l =  ['a', 'b', 'c', 'd']\n",
    "print(type(enumerate(l)))\n",
    "\n",
    "for index, value in enumerate(l):\n",
    "    print(index,value)\n",
    "\n",
    "# this is the basic way to create the dict associated to this enumeration\n",
    "dict = {}\n",
    "print(enumerate(l))\n",
    "for i,s in enumerate(l):\n",
    "    print(i,s)\n",
    "    dict[s] = i\n",
    "print(dict)\n",
    "\n",
    "# it's equivalent to this dict comprehension where the syntax a:b means the key a is assigned the value b\n",
    "dict = {s:i for i,s in enumerate(l)}\n",
    "print(dict)"
   ]
  },
  {
   "cell_type": "code",
   "execution_count": 7,
   "metadata": {},
   "outputs": [
    {
     "name": "stdout",
     "output_type": "stream",
     "text": [
      "['a', 'b', 'c', 'd', 'e'] 26\n",
      "{'a': 1, 'b': 2, 'c': 3, 'd': 4, 'e': 5, 'f': 6, 'g': 7, 'h': 8, 'i': 9, 'j': 10, 'k': 11, 'l': 12, 'm': 13, 'n': 14, 'o': 15, 'p': 16, 'q': 17, 'r': 18, 's': 19, 't': 20, 'u': 21, 'v': 22, 'w': 23, 'x': 24, 'y': 25, 'z': 26, '.': 0}\n",
      "{1: 'a', 2: 'b', 3: 'c', 4: 'd', 5: 'e', 6: 'f', 7: 'g', 8: 'h', 9: 'i', 10: 'j', 11: 'k', 12: 'l', 13: 'm', 14: 'n', 15: 'o', 16: 'p', 17: 'q', 18: 'r', 19: 's', 20: 't', 21: 'u', 22: 'v', 23: 'w', 24: 'x', 25: 'y', 26: 'z', 0: '.'}\n"
     ]
    }
   ],
   "source": [
    "# build the vocabulary of characters and mappings to/from integers\n",
    "charsSet = set(''.join(words)) # join concatenates all the words (chars actually) into a single string and set creates a set of unique elements from that str\n",
    "# it's a quick way to get all the chars the file \n",
    "\n",
    "chars = sorted(list(charsSet)) # we convert the set to a list so that we can sort it \n",
    "print(chars[:5], len(chars)) # we now have the sorted list of the 26 chars of the alphabet\n",
    "\n",
    "# we create the mappings\n",
    "stoi = {s:i+1 for i,s in enumerate(chars)} # str to int dict\n",
    "stoi['.'] = 0 # used to mark the end of a word\n",
    "itos = {i+1:s for i,s in enumerate(chars)} # int to str dict\n",
    "itos[0] = '.' \n",
    "print(stoi)\n",
    "print(itos)\n"
   ]
  },
  {
   "cell_type": "code",
   "execution_count": 8,
   "metadata": {},
   "outputs": [
    {
     "name": "stdout",
     "output_type": "stream",
     "text": [
      "\n",
      " emma\n",
      "... ---> e\n",
      "..e ---> m\n",
      ".em ---> m\n",
      "emm ---> a\n",
      "mma ---> .\n",
      "\n",
      " olivia\n",
      "... ---> o\n",
      "..o ---> l\n",
      ".ol ---> i\n",
      "oli ---> v\n",
      "liv ---> i\n",
      "ivi ---> a\n",
      "via ---> .\n",
      "\n",
      " ava\n",
      "... ---> a\n",
      "..a ---> v\n",
      ".av ---> a\n",
      "ava ---> .\n",
      "tensor([[ 0,  0,  0],\n",
      "        [ 0,  0,  5],\n",
      "        [ 0,  5, 13],\n",
      "        [ 5, 13, 13],\n",
      "        [13, 13,  1],\n",
      "        [ 0,  0,  0],\n",
      "        [ 0,  0, 15],\n",
      "        [ 0, 15, 12],\n",
      "        [15, 12,  9],\n",
      "        [12,  9, 22],\n",
      "        [ 9, 22,  9],\n",
      "        [22,  9,  1],\n",
      "        [ 0,  0,  0],\n",
      "        [ 0,  0,  1],\n",
      "        [ 0,  1, 22],\n",
      "        [ 1, 22,  1]]) torch.Size([16, 3])\n",
      "tensor([ 5, 13, 13,  1,  0, 15, 12,  9, 22,  9,  1,  0,  1, 22,  1,  0]) torch.Size([16])\n"
     ]
    }
   ],
   "source": [
    "# build the dataset\n",
    "\n",
    "block_size = 3 # context length : how many chars do we take to predict the next one\n",
    "X, Y = [], []\n",
    "for w in words[:3]:\n",
    "    print('\\n', w)\n",
    "    context = [0] * block_size # create the empty list of appropriate size 0's are \".\"\n",
    "    for ch in w + '.': # add a dot at the end of the word \n",
    "        ix = stoi[ch] # retrieve the index of the ch\n",
    "        X.append(context) \n",
    "        Y.append(ix) # target is the index of the ch\n",
    "\n",
    "        print(''.join(itos[i] for i in context), '--->', itos[ix]) # visually understand the X's and Y's\n",
    "        context = context[1:] + [ix] # crop to the left and add the next index to the right \n",
    "    \n",
    "X = torch.tensor(X)\n",
    "Y = torch.tensor(Y)\n",
    "print(X, X.shape) # each line is a context window \n",
    "print(Y, Y.shape) # list of all the expected following char for each context window"
   ]
  },
  {
   "cell_type": "code",
   "execution_count": 9,
   "metadata": {},
   "outputs": [
    {
     "name": "stdout",
     "output_type": "stream",
     "text": [
      "for the word : emma\n",
      "\n",
      "for the context :  tensor([0, 0, 0])\n",
      "which is :  ['.', '.', '.']\n",
      "we have the excpected index tensor(5)\n",
      "which is :  e\n",
      "\n",
      "for the context :  tensor([0, 0, 5])\n",
      "which is :  ['.', '.', 'e']\n",
      "we have the excpected index tensor(13)\n",
      "which is :  m\n",
      "\n",
      "for the context :  tensor([ 0,  5, 13])\n",
      "which is :  ['.', 'e', 'm']\n",
      "we have the excpected index tensor(13)\n",
      "which is :  m\n",
      "\n",
      "for the context :  tensor([ 5, 13, 13])\n",
      "which is :  ['e', 'm', 'm']\n",
      "we have the excpected index tensor(1)\n",
      "which is :  a\n"
     ]
    }
   ],
   "source": [
    "# some examples\n",
    "\n",
    "print(\"for the word :\", words[0])\n",
    "for i in range(len(words[0])):\n",
    "    print(\"\\nfor the context : \", X[i])\n",
    "    print(\"which is : \", [itos[i.item()] for i in X[i]])\n",
    "    print(\"we have the excpected index\", Y[i])\n",
    "    print(\"which is : \", itos[Y[i].item()])\n"
   ]
  },
  {
   "cell_type": "code",
   "execution_count": 10,
   "metadata": {},
   "outputs": [
    {
     "data": {
      "text/plain": [
       "(torch.Size([16, 3]), torch.int64, torch.Size([16]), torch.int64)"
      ]
     },
     "execution_count": 10,
     "metadata": {},
     "output_type": "execute_result"
    }
   ],
   "source": [
    "X.shape, X.dtype, Y.shape, Y.dtype"
   ]
  },
  {
   "cell_type": "markdown",
   "metadata": {},
   "source": [
    "### Embedding space\n",
    "\n",
    "The idea is to embed the characters in a smaller dimensional space \n",
    "\n",
    "In the paper, they predicts words in a sentence, so they have 17000 words embedded in a 30 dimensional space. Here we predict the next character in a sequence of characters, so we will embed 27 characters in a 2 dimensional space to start with.\n",
    "\n",
    "The intuition behind this embedding space is that similar characters will be close to each other in the 2D space, and the MLP will learn to predict the next character based on the previous characters and the position of the characters in the embedding space.\n"
   ]
  },
  {
   "attachments": {
    "image.png": {
     "image/png": "[encoded data removed]"
    }
   },
   "cell_type": "markdown",
   "metadata": {},
   "source": [
    "![image.png](attachment:image.png)"
   ]
  },
  {
   "cell_type": "code",
   "execution_count": 11,
   "metadata": {},
   "outputs": [
    {
     "name": "stdout",
     "output_type": "stream",
     "text": [
      "tensor([[ 0.3885,  1.7045],\n",
      "        [-0.6237,  0.0622],\n",
      "        [-0.8705,  0.3940],\n",
      "        [ 0.5872,  1.2390],\n",
      "        [ 0.3197,  0.4360],\n",
      "        [-2.0289, -0.7413]])\n"
     ]
    },
    {
     "data": {
      "text/plain": [
       "(tensor([-2.0289, -0.7413]), 'e')"
      ]
     },
     "execution_count": 11,
     "metadata": {},
     "output_type": "execute_result"
    }
   ],
   "source": [
    "# We start with a random embedding \n",
    "# For each index, we have a point in R^2\n",
    "emb_dim = 2\n",
    "C = torch.randn((27,emb_dim))\n",
    "print(C[:6])\n",
    "C[5], itos[5] # coordinates of 5 which is 'e'"
   ]
  },
  {
   "cell_type": "code",
   "execution_count": 12,
   "metadata": {},
   "outputs": [
    {
     "name": "stdout",
     "output_type": "stream",
     "text": [
      "tensor([-2.0289, -0.7413])\n"
     ]
    },
    {
     "data": {
      "text/plain": [
       "tensor([-2.0289, -0.7413])"
      ]
     },
     "execution_count": 12,
     "metadata": {},
     "output_type": "execute_result"
    }
   ],
   "source": [
    "# The lookup table to the embedding space C[i] can be thought of as the first linear layer in the bigger nn showed above\n",
    "# Indeed, if we encode the indexes using one_hot_encoding, then C[i] = encoded_i dot C (easily verifiable by hand)\n",
    "# So we input the encoded indexes and we treat C as weights  \n",
    "# It's faster to just use C[i] so we will use that but it's a fun fact\n",
    "\n",
    "print(C[5])\n",
    "F.one_hot(torch.tensor(5), num_classes=27).float() @ C # we convert to float bc by default it's a long float and C is just a float"
   ]
  },
  {
   "cell_type": "code",
   "execution_count": 13,
   "metadata": {},
   "outputs": [
    {
     "name": "stdout",
     "output_type": "stream",
     "text": [
      "tensor([-2.0289, -0.7413])\n",
      "tensor([[-0.6237,  0.0622],\n",
      "        [-0.8705,  0.3940],\n",
      "        [ 0.5872,  1.2390]])\n",
      "tensor([[-0.6237,  0.0622],\n",
      "        [-0.8705,  0.3940],\n",
      "        [ 0.5872,  1.2390],\n",
      "        [ 0.5872,  1.2390]])\n",
      "tensor([[0.3885, 1.7045],\n",
      "        [0.3885, 1.7045],\n",
      "        [0.3885, 1.7045]])\n",
      "torch.Size([16, 3, 2])\n"
     ]
    }
   ],
   "source": [
    "# How to embed X in one shot ? \n",
    "\n",
    "print(C[5]) # embeds 5\n",
    "print(C[[1,2,3]]) # embeds 1,2,3\n",
    "print(C[torch.tensor([1,2,3,3])]) # works with tensors and the same element multiple times (not only with tensors)\n",
    "\n",
    "print(C[X][0]) # embeding of the first context (['.','.','.'])\n",
    "print(C[X].shape)\n",
    "\n",
    "# it's an array of all matrices of embeded contexts\n",
    "# a matrice of embeded context is created from a context list that is embeded just as in the example with C[[1,2,3]]\n",
    "# So C[X][i] gives the embedding of the ith context\n",
    "# C[X][i][j] gives the embedding of the jth int in the ith context\n",
    "\n",
    "# To \"give the embedding\" of the jth int is to give its coordonates in the 2D space C"
   ]
  },
  {
   "cell_type": "code",
   "execution_count": 14,
   "metadata": {},
   "outputs": [
    {
     "name": "stdout",
     "output_type": "stream",
     "text": [
      "tensor(13)\n",
      "tensor([-0.6957,  0.8036])\n",
      "tensor([-0.6957,  0.8036])\n",
      "\n",
      "tensor([ 5, 13, 13])\n",
      "tensor([[-2.0289, -0.7413],\n",
      "        [-0.6957,  0.8036],\n",
      "        [-0.6957,  0.8036]])\n",
      "tensor([[-2.0289, -0.7413],\n",
      "        [-0.6957,  0.8036],\n",
      "        [-0.6957,  0.8036]])\n"
     ]
    }
   ],
   "source": [
    "print(X[3,2]) #the 2nd int of the 3rd context is 13 here\n",
    "print(C[X][3,2]) \n",
    "print(C[13]) \n",
    "# we see that to retrieve the embeding of a certain number in X,\n",
    "# we can do that by looking up it's value in C[X] at the exact location we found it in X\n",
    "\n",
    "print()\n",
    "print(X[3])\n",
    "print(C[X][3])\n",
    "print(C[[ 5, 13, 13]])\n",
    "# works for entiere contexts as well "
   ]
  },
  {
   "cell_type": "code",
   "execution_count": 15,
   "metadata": {},
   "outputs": [
    {
     "data": {
      "text/plain": [
       "torch.Size([16, 3, 2])"
      ]
     },
     "execution_count": 15,
     "metadata": {},
     "output_type": "execute_result"
    }
   ],
   "source": [
    "emb = C[X]\n",
    "emb.shape"
   ]
  },
  {
   "cell_type": "markdown",
   "metadata": {},
   "source": [
    "### Model \n",
    "\n",
    "Now that we have the embedding space, we create the model displayed in the image above."
   ]
  },
  {
   "cell_type": "code",
   "execution_count": 16,
   "metadata": {},
   "outputs": [
    {
     "data": {
      "text/plain": [
       "(torch.Size([6, 100]), torch.Size([100]))"
      ]
     },
     "execution_count": 16,
     "metadata": {},
     "output_type": "execute_result"
    }
   ],
   "source": [
    "# let's build the first hidden layer of the image \n",
    "input_size = block_size*emb_dim\n",
    "nbr_neurons_1 = 100\n",
    "W1 = torch.randn((input_size, nbr_neurons_1)) # wheights matrix of the first hidden layer\n",
    "b1 = torch.randn(nbr_neurons_1) # for each neuron we have a random bias \n",
    "W1.shape, b1.shape\n",
    "\n",
    "# The input size in not only block_size (nbr of chars in context) because each neuron is a coordinate of a char in the embedding space\n",
    "# Each row of W1 corresponds to the weights connecting one input neuron to all neurons in the hidden layer\n",
    "# Each column of W1 corresponds to the weights connecting all input neurons to one neuron in the hidden layer\n"
   ]
  },
  {
   "cell_type": "code",
   "execution_count": 17,
   "metadata": {},
   "outputs": [
    {
     "name": "stdout",
     "output_type": "stream",
     "text": [
      "torch.Size([16, 3, 2]) torch.Size([6, 100])\n",
      "tensor([[ 0.3885,  1.7045],\n",
      "        [ 0.3885,  1.7045],\n",
      "        [ 0.3885,  1.7045],\n",
      "        [-2.0289, -0.7413],\n",
      "        [-0.6957,  0.8036],\n",
      "        [ 0.3885,  1.7045],\n",
      "        [ 0.3885,  1.7045],\n",
      "        [ 0.3885,  1.7045],\n",
      "        [-0.5697, -0.0088],\n",
      "        [ 2.1364,  0.0556],\n",
      "        [-0.2737,  0.0165],\n",
      "        [-0.3856,  0.8525],\n",
      "        [ 0.3885,  1.7045],\n",
      "        [ 0.3885,  1.7045],\n",
      "        [ 0.3885,  1.7045],\n",
      "        [-0.6237,  0.0622]])\n",
      "torch.Size([16, 2])\n",
      "tensor([[ 0.3885,  1.7045,  0.3885,  1.7045,  0.3885,  1.7045],\n",
      "        [ 0.3885,  1.7045,  0.3885,  1.7045, -2.0289, -0.7413],\n",
      "        [ 0.3885,  1.7045, -2.0289, -0.7413, -0.6957,  0.8036],\n",
      "        [-2.0289, -0.7413, -0.6957,  0.8036, -0.6957,  0.8036],\n",
      "        [-0.6957,  0.8036, -0.6957,  0.8036, -0.6237,  0.0622],\n",
      "        [ 0.3885,  1.7045,  0.3885,  1.7045,  0.3885,  1.7045],\n",
      "        [ 0.3885,  1.7045,  0.3885,  1.7045, -0.5697, -0.0088],\n",
      "        [ 0.3885,  1.7045, -0.5697, -0.0088,  2.1364,  0.0556],\n",
      "        [-0.5697, -0.0088,  2.1364,  0.0556, -0.2737,  0.0165],\n",
      "        [ 2.1364,  0.0556, -0.2737,  0.0165, -0.3856,  0.8525],\n",
      "        [-0.2737,  0.0165, -0.3856,  0.8525, -0.2737,  0.0165],\n",
      "        [-0.3856,  0.8525, -0.2737,  0.0165, -0.6237,  0.0622],\n",
      "        [ 0.3885,  1.7045,  0.3885,  1.7045,  0.3885,  1.7045],\n",
      "        [ 0.3885,  1.7045,  0.3885,  1.7045, -0.6237,  0.0622],\n",
      "        [ 0.3885,  1.7045, -0.6237,  0.0622, -0.3856,  0.8525],\n",
      "        [-0.6237,  0.0622, -0.3856,  0.8525, -0.6237,  0.0622]]) torch.Size([16, 6])\n"
     ]
    }
   ],
   "source": [
    "# We cannot simply perform emb @ W1 + b1 because as we said, emb is a list of embeded contexts (matrices)\n",
    "print(emb.shape, W1.shape)\n",
    "\n",
    "# we must concatenate the embeddings for each input layer \n",
    "print(emb[:,0,:]) # gives for each context, the embeding of the first char \n",
    "print(emb[:,0,:].shape)\n",
    "conc_emb = torch.cat([emb[:,i,:] for i in range(block_size)], axis=1) # we concatenate the list of all the embedings of the chars in a context window\n",
    "# we are doing the concatenation on the columns \n",
    "# So for each line, we have 6 numbers coresponding to 3 embedings in C\n",
    "print(conc_emb, conc_emb.shape)"
   ]
  },
  {
   "cell_type": "code",
   "execution_count": 18,
   "metadata": {},
   "outputs": [
    {
     "name": "stdout",
     "output_type": "stream",
     "text": [
      "(tensor([1, 2, 3]), tensor([4, 5, 6]), tensor([7, 8, 9]))\n",
      "(tensor([1, 4, 7]), tensor([2, 5, 8]), tensor([3, 6, 9]))\n"
     ]
    },
    {
     "data": {
      "text/plain": [
       "(tensor([[ 0.3885,  1.7045,  0.3885,  1.7045,  0.3885,  1.7045],\n",
       "         [ 0.3885,  1.7045,  0.3885,  1.7045, -2.0289, -0.7413],\n",
       "         [ 0.3885,  1.7045, -2.0289, -0.7413, -0.6957,  0.8036],\n",
       "         [-2.0289, -0.7413, -0.6957,  0.8036, -0.6957,  0.8036],\n",
       "         [-0.6957,  0.8036, -0.6957,  0.8036, -0.6237,  0.0622],\n",
       "         [ 0.3885,  1.7045,  0.3885,  1.7045,  0.3885,  1.7045],\n",
       "         [ 0.3885,  1.7045,  0.3885,  1.7045, -0.5697, -0.0088],\n",
       "         [ 0.3885,  1.7045, -0.5697, -0.0088,  2.1364,  0.0556],\n",
       "         [-0.5697, -0.0088,  2.1364,  0.0556, -0.2737,  0.0165],\n",
       "         [ 2.1364,  0.0556, -0.2737,  0.0165, -0.3856,  0.8525],\n",
       "         [-0.2737,  0.0165, -0.3856,  0.8525, -0.2737,  0.0165],\n",
       "         [-0.3856,  0.8525, -0.2737,  0.0165, -0.6237,  0.0622],\n",
       "         [ 0.3885,  1.7045,  0.3885,  1.7045,  0.3885,  1.7045],\n",
       "         [ 0.3885,  1.7045,  0.3885,  1.7045, -0.6237,  0.0622],\n",
       "         [ 0.3885,  1.7045, -0.6237,  0.0622, -0.3856,  0.8525],\n",
       "         [-0.6237,  0.0622, -0.3856,  0.8525, -0.6237,  0.0622]]),\n",
       " torch.Size([16, 6]))"
      ]
     },
     "execution_count": 18,
     "metadata": {},
     "output_type": "execute_result"
    }
   ],
   "source": [
    "# a better way to create conc_emb is to use the unbind method\n",
    "# it removes a dimension exactly like [emb[:,i,:] for i in range(block_size)]\n",
    "\n",
    "#Ex : \n",
    "M = [\n",
    "    [1, 2, 3],\n",
    "    [4, 5, 6],\n",
    "    [7, 8, 9]\n",
    "]\n",
    "\n",
    "test_rows = torch.unbind(torch.tensor(M), 0) \n",
    "test_col = torch.unbind(torch.tensor(M), 1)\n",
    "\n",
    "print(test_rows)\n",
    "print(test_col)\n",
    "\n",
    "conc_emb = torch.cat(torch.unbind(emb, 1), 1)\n",
    "conc_emb, conc_emb.shape\n",
    " "
   ]
  },
  {
   "cell_type": "code",
   "execution_count": 37,
   "metadata": {},
   "outputs": [
    {
     "name": "stdout",
     "output_type": "stream",
     "text": [
      "tensor([ 0,  1,  2,  3,  4,  5,  6,  7,  8,  9, 10, 11, 12, 13, 14, 15, 16, 17]) torch.Size([18])\n",
      "tensor([[ 0,  1,  2,  3,  4,  5,  6,  7,  8],\n",
      "        [ 9, 10, 11, 12, 13, 14, 15, 16, 17]])\n",
      "tensor([[[ 0,  1],\n",
      "         [ 2,  3],\n",
      "         [ 4,  5]],\n",
      "\n",
      "        [[ 6,  7],\n",
      "         [ 8,  9],\n",
      "         [10, 11]],\n",
      "\n",
      "        [[12, 13],\n",
      "         [14, 15],\n",
      "         [16, 17]]])\n"
     ]
    },
    {
     "data": {
      "text/plain": [
       " 0\n",
       " 1\n",
       " 2\n",
       " 3\n",
       " 4\n",
       " 5\n",
       " 6\n",
       " 7\n",
       " 8\n",
       " 9\n",
       " 10\n",
       " 11\n",
       " 12\n",
       " 13\n",
       " 14\n",
       " 15\n",
       " 16\n",
       " 17\n",
       "[torch.storage.TypedStorage(dtype=torch.int64, device=cpu) of size 18]"
      ]
     },
     "execution_count": 37,
     "metadata": {},
     "output_type": "execute_result"
    }
   ],
   "source": [
    "# 3rd method : view method (like reshape in numpy)\n",
    "\n",
    "a = torch.arange(18)\n",
    "print(a, a.shape)\n",
    "\n",
    "print(a.view(2,9))\n",
    "print(a.view(3,3,2))\n",
    "\n",
    "# we can reshape the tensor the way we wan't as long as the size is conserved\n",
    "# It's extremely efficient thanks to the inner workings of torch\n",
    "# Because each vector has a storage, which is the list of all its elements\n",
    "# This is fixed and only its representation changes\n",
    "# So we don't change/create/delete memory when using .view()\n",
    "a.storage()\n",
    "\n",
    "# whereas when we concatenate using bind, we create a whole new tensor with new storage --> inneficient"
   ]
  },
  {
   "cell_type": "code",
   "execution_count": 20,
   "metadata": {},
   "outputs": [
    {
     "name": "stdout",
     "output_type": "stream",
     "text": [
      "tensor([[ 0.3885,  1.7045,  0.3885,  1.7045,  0.3885,  1.7045],\n",
      "        [ 0.3885,  1.7045,  0.3885,  1.7045, -2.0289, -0.7413],\n",
      "        [ 0.3885,  1.7045, -2.0289, -0.7413, -0.6957,  0.8036],\n",
      "        [-2.0289, -0.7413, -0.6957,  0.8036, -0.6957,  0.8036],\n",
      "        [-0.6957,  0.8036, -0.6957,  0.8036, -0.6237,  0.0622],\n",
      "        [ 0.3885,  1.7045,  0.3885,  1.7045,  0.3885,  1.7045],\n",
      "        [ 0.3885,  1.7045,  0.3885,  1.7045, -0.5697, -0.0088],\n",
      "        [ 0.3885,  1.7045, -0.5697, -0.0088,  2.1364,  0.0556],\n",
      "        [-0.5697, -0.0088,  2.1364,  0.0556, -0.2737,  0.0165],\n",
      "        [ 2.1364,  0.0556, -0.2737,  0.0165, -0.3856,  0.8525],\n",
      "        [-0.2737,  0.0165, -0.3856,  0.8525, -0.2737,  0.0165],\n",
      "        [-0.3856,  0.8525, -0.2737,  0.0165, -0.6237,  0.0622],\n",
      "        [ 0.3885,  1.7045,  0.3885,  1.7045,  0.3885,  1.7045],\n",
      "        [ 0.3885,  1.7045,  0.3885,  1.7045, -0.6237,  0.0622],\n",
      "        [ 0.3885,  1.7045, -0.6237,  0.0622, -0.3856,  0.8525],\n",
      "        [-0.6237,  0.0622, -0.3856,  0.8525, -0.6237,  0.0622]]) torch.Size([16, 6])\n"
     ]
    },
    {
     "data": {
      "text/plain": [
       "(tensor([[-4.5415,  2.7443,  0.4297,  ...,  2.9786,  3.1267, -5.6671],\n",
       "         [-3.0631, -1.1155,  3.5606,  ...,  1.1780, -0.1174, -2.8025],\n",
       "         [-4.7380,  3.1788, -2.3947,  ...,  2.3151, -1.2038,  1.7295],\n",
       "         ...,\n",
       "         [-2.6529,  0.1989,  2.6284,  ...,  1.7835,  2.0415, -3.3106],\n",
       "         [-4.5924,  2.7116, -0.7107,  ...,  2.1276,  0.5616, -1.9809],\n",
       "         [-1.3663, -0.9755,  2.1502,  ..., -0.8452, -2.1637,  0.9517]]),\n",
       " torch.Size([16, 100]))"
      ]
     },
     "execution_count": 20,
     "metadata": {},
     "output_type": "execute_result"
    }
   ],
   "source": [
    "# let's use that to solve our original pb i.e multiply emb and W1\n",
    "conc_emb = emb.view(emb.shape[0], input_size)\n",
    "print(conc_emb, conc_emb.shape) # once again the same matrix \n",
    "\n",
    "h = conc_emb @ W1 + b1 # 16x6 @ (3*2)x100 + 100 = len(X)x(block_size*emb_dim) @ (block_size*emb_dim)x(nbr_neurons_1) + nbr_neurons_1\n",
    "h, h.shape\n",
    "# i.e., this is the list of outputs from the linear transformation for each example in X for each of our 100 neurons in the hidden layer"
   ]
  },
  {
   "cell_type": "code",
   "execution_count": 21,
   "metadata": {},
   "outputs": [
    {
     "data": {
      "text/plain": [
       "tensor([[-0.9998,  0.9918,  0.4051,  ...,  0.9948,  0.9962, -1.0000],\n",
       "        [-0.9956, -0.8060,  0.9984,  ...,  0.8268, -0.1169, -0.9927],\n",
       "        [-0.9998,  0.9965, -0.9835,  ...,  0.9807, -0.8348,  0.9390],\n",
       "        ...,\n",
       "        [-0.9901,  0.1963,  0.9896,  ...,  0.9451,  0.9668, -0.9973],\n",
       "        [-0.9998,  0.9912, -0.6111,  ...,  0.9720,  0.5092, -0.9627],\n",
       "        [-0.8778, -0.7511,  0.9732,  ..., -0.6885, -0.9739,  0.7405]])"
      ]
     },
     "execution_count": 21,
     "metadata": {},
     "output_type": "execute_result"
    }
   ],
   "source": [
    "h = torch.tanh(h) # non linear transformation \n",
    "h"
   ]
  },
  {
   "cell_type": "code",
   "execution_count": 22,
   "metadata": {},
   "outputs": [
    {
     "data": {
      "text/plain": [
       "(tensor([[-1.6858e+01, -6.5172e+00,  9.5111e-01, -7.6087e+00, -2.1549e+00,\n",
       "          -6.7437e+00, -1.1500e+01,  1.2910e+01, -1.1647e+01,  7.7229e+00,\n",
       "          -7.9901e-01,  1.9915e+01, -6.0753e+00,  1.0883e+01, -7.2227e+00,\n",
       "           1.0994e+01, -9.4991e+00, -8.6996e-01,  7.9288e+00,  7.7902e-02,\n",
       "           1.1564e+01,  2.8135e+01,  1.0429e+01,  9.2909e+00,  9.2846e+00,\n",
       "           4.9469e+00,  4.6959e+00],\n",
       "         [-1.2192e+01, -3.0976e+00,  1.6924e+01, -3.3419e+00, -1.1957e+01,\n",
       "          -5.9802e+00, -8.7903e+00,  1.1120e+01, -1.0348e+01, -7.2343e+00,\n",
       "           1.0367e+01,  1.2567e+01, -7.0397e+00, -1.8258e+00, -8.3189e+00,\n",
       "           5.8200e+00, -1.5224e+01,  2.0182e+00,  1.8865e+00,  7.3644e+00,\n",
       "           1.6769e+01,  1.9466e+01,  1.5261e+00,  1.0008e+00,  4.3461e-01,\n",
       "          -1.2558e+01, -1.3455e+00],\n",
       "         [-1.5265e+01,  4.0488e+00,  8.6846e-01,  1.8613e+00,  1.1712e+01,\n",
       "          -8.9255e+00,  2.0011e+01,  6.8001e+00, -7.3975e+00, -8.5397e+00,\n",
       "           7.8744e+00,  8.0790e+00, -1.3524e+01,  1.4620e+01, -5.0047e+00,\n",
       "          -7.6439e-01, -9.5106e+00,  7.6642e+00,  1.7694e+01, -7.4614e+00,\n",
       "           8.1275e-01, -7.7198e+00,  7.2553e+00, -2.8697e+00, -2.1414e+00,\n",
       "           1.3073e+01, -3.9863e+00],\n",
       "         [ 9.7002e+00, -4.3599e+00, -9.7459e+00, -1.2021e+01,  1.1699e+01,\n",
       "           5.7754e+00,  1.3656e+01,  1.3746e+00, -9.1921e-01, -1.6962e+00,\n",
       "           7.1351e+00,  4.5660e+00,  5.0250e+00, -1.0140e+01, -6.6182e+00,\n",
       "          -7.8937e+00,  3.8132e+00,  4.8722e+00, -2.8376e+00,  1.8947e+01,\n",
       "           6.1499e+00, -5.1150e+00, -5.2449e+00,  1.7744e+01,  5.3081e+00,\n",
       "           1.7434e+01, -6.5110e-01],\n",
       "         [-1.1872e+01, -1.5441e+00,  3.3441e+00, -8.5248e+00,  4.3705e+00,\n",
       "          -4.0250e+00,  1.2942e+01,  8.4437e+00, -9.0091e+00, -1.2590e+01,\n",
       "           1.2419e+01,  1.4444e+01, -4.4407e+00,  1.9819e+00, -2.7257e+00,\n",
       "          -2.4699e+00, -4.6838e+00,  9.3566e+00,  4.7265e-01,  1.1144e+01,\n",
       "           8.5602e+00,  1.5268e+01,  3.8310e+00,  9.0209e+00,  7.9876e+00,\n",
       "           1.0547e+01, -2.1693e+00],\n",
       "         [-1.6858e+01, -6.5172e+00,  9.5111e-01, -7.6087e+00, -2.1549e+00,\n",
       "          -6.7437e+00, -1.1500e+01,  1.2910e+01, -1.1647e+01,  7.7229e+00,\n",
       "          -7.9901e-01,  1.9915e+01, -6.0753e+00,  1.0883e+01, -7.2227e+00,\n",
       "           1.0994e+01, -9.4991e+00, -8.6996e-01,  7.9288e+00,  7.7902e-02,\n",
       "           1.1564e+01,  2.8135e+01,  1.0429e+01,  9.2909e+00,  9.2846e+00,\n",
       "           4.9469e+00,  4.6959e+00],\n",
       "         [-1.9088e+01, -3.3245e-01,  1.4656e+01, -1.2954e+00, -5.5445e+00,\n",
       "          -5.9844e-01, -1.3599e+01,  1.3589e+01, -9.1378e+00, -5.3873e+00,\n",
       "           6.5660e+00,  1.8412e+01, -6.4697e+00,  1.3841e+00, -5.8298e+00,\n",
       "           7.4999e+00, -1.7868e+01,  1.4937e+00,  2.2144e+00,  8.2034e+00,\n",
       "           1.5960e+01,  2.6936e+01,  8.1940e+00,  6.1196e+00,  8.5290e+00,\n",
       "          -6.7944e+00, -1.4821e+00],\n",
       "         [-1.3070e+01,  3.2859e+00, -3.1905e+00,  1.7513e+00, -2.0533e+00,\n",
       "          -9.4710e+00,  1.2518e+00,  1.5452e+01, -3.9942e+00, -2.3765e+00,\n",
       "           4.8943e+00,  1.3667e+01,  1.2988e+00,  1.2096e+01, -1.0477e+01,\n",
       "           5.4823e-01, -3.3099e+00,  2.7557e-01,  3.3659e+00,  6.0490e+00,\n",
       "           7.7380e+00,  6.4645e+00,  7.6465e+00,  7.7428e+00, -3.5466e+00,\n",
       "          -3.9110e-01,  5.9655e+00],\n",
       "         [ 5.8267e+00, -1.1840e+01, -3.6955e+00,  3.3567e-01,  8.2573e+00,\n",
       "           1.1982e+01, -2.6226e+01,  4.8817e+00,  4.4228e+00,  5.2388e+00,\n",
       "          -8.7139e+00,  1.1817e+00,  9.8192e+00, -1.2989e+01, -5.9692e+00,\n",
       "           1.3824e+00,  6.4329e+00, -5.7637e+00,  1.3041e+00,  1.0706e+01,\n",
       "          -6.4273e+00, -5.5703e-01,  1.2463e+01, -2.2683e+00,  9.5477e+00,\n",
       "           7.3063e+00, -1.7470e+01],\n",
       "         [-1.1944e+01,  1.0977e+01,  1.1655e+01,  3.8265e+00, -7.1161e-01,\n",
       "          -1.3842e+00, -7.6867e-01,  4.0720e+00, -2.7668e+00, -3.9905e+00,\n",
       "          -3.5832e-01,  1.4308e+01, -1.7890e+01,  1.9252e+01,  3.7782e+00,\n",
       "           2.2478e+01, -1.5126e+01,  1.5342e+00,  2.0747e+01, -1.3556e+01,\n",
       "           1.4738e+01,  2.5016e+00,  1.0002e+01, -6.2814e+00, -5.3621e+00,\n",
       "           1.3155e+00,  7.6097e+00],\n",
       "         [-3.3058e+00,  5.4883e+00,  6.0447e+00, -8.9096e+00, -5.2122e+00,\n",
       "          -3.7571e+00,  9.1537e+00,  1.0618e+01, -6.9426e+00, -1.3659e+01,\n",
       "           9.0110e+00,  1.6526e+01, -1.1090e+00, -1.3515e-01,  1.8960e+00,\n",
       "          -3.0359e+00, -3.6000e+00,  6.1353e+00, -5.5081e+00,  1.3509e+01,\n",
       "           1.0437e+01,  1.5001e+01,  2.2731e+00,  9.7203e+00,  1.7429e+00,\n",
       "           4.9434e+00,  6.7661e+00],\n",
       "         [-1.2845e+01, -2.3805e+00,  2.0535e+00, -1.1950e+00,  9.5189e+00,\n",
       "          -2.5123e+00,  7.7115e+00,  9.7927e+00, -7.3865e+00, -4.8581e+00,\n",
       "           1.0114e+01,  9.6024e+00,  6.9844e-02,  3.2990e-01, -5.9706e+00,\n",
       "           5.3345e+00, -5.3371e+00,  8.3719e+00,  5.7442e+00,  5.4159e+00,\n",
       "           4.1748e+00,  1.6246e+00,  7.4088e+00,  7.5518e-03,  8.2600e+00,\n",
       "           1.1476e+01, -9.1157e+00],\n",
       "         [-1.6858e+01, -6.5172e+00,  9.5111e-01, -7.6087e+00, -2.1549e+00,\n",
       "          -6.7437e+00, -1.1500e+01,  1.2910e+01, -1.1647e+01,  7.7229e+00,\n",
       "          -7.9901e-01,  1.9915e+01, -6.0753e+00,  1.0883e+01, -7.2227e+00,\n",
       "           1.0994e+01, -9.4991e+00, -8.6996e-01,  7.9288e+00,  7.7902e-02,\n",
       "           1.1564e+01,  2.8135e+01,  1.0429e+01,  9.2909e+00,  9.2846e+00,\n",
       "           4.9469e+00,  4.6959e+00],\n",
       "         [-1.9341e+01, -8.8334e-01,  1.4565e+01, -1.1678e+00, -5.0343e+00,\n",
       "          -6.8408e-01, -1.3607e+01,  1.3045e+01, -9.1697e+00, -4.6941e+00,\n",
       "           6.5568e+00,  1.9170e+01, -7.1674e+00,  1.7965e+00, -5.5502e+00,\n",
       "           7.8888e+00, -1.8644e+01,  1.8390e+00,  2.9519e+00,  7.6783e+00,\n",
       "           1.6681e+01,  2.6718e+01,  8.8563e+00,  6.1586e+00,  8.7492e+00,\n",
       "          -6.2994e+00, -1.6638e+00],\n",
       "         [-1.8748e+01, -3.8388e+00,  2.0586e+00,  4.7998e+00,  6.7659e+00,\n",
       "          -5.9803e+00, -1.7302e+00,  1.1484e+01, -9.9177e+00, -4.0826e-01,\n",
       "           4.8550e+00,  1.2181e+01, -8.8706e+00,  1.3445e+01, -9.3100e+00,\n",
       "           1.3512e+01, -8.9920e+00,  7.1532e+00,  1.6279e+01, -1.1550e+00,\n",
       "           7.7967e+00,  4.6326e+00,  1.2923e+01, -4.0619e+00,  8.9216e+00,\n",
       "           4.2200e+00, -5.8576e+00],\n",
       "         [-2.6481e-01,  9.5861e-01,  3.7601e+00, -1.1991e+01,  7.0794e-01,\n",
       "          -1.4435e-01,  1.1785e+01,  7.4791e+00, -5.2246e+00, -1.1326e+01,\n",
       "           8.9774e+00,  1.3437e+01,  3.6785e-01, -4.2903e+00, -5.2342e-02,\n",
       "          -5.0007e+00, -1.5595e+00,  6.6139e+00, -4.9678e+00,  1.4404e+01,\n",
       "           8.4831e+00,  1.0852e+01,  3.0386e+00,  8.6341e+00,  4.7687e+00,\n",
       "           8.4180e+00, -5.3982e-01]]),\n",
       " torch.Size([16, 27]))"
      ]
     },
     "execution_count": 22,
     "metadata": {},
     "output_type": "execute_result"
    }
   ],
   "source": [
    "# Let's build the second hidden layer\n",
    "nbr_neurons_2 = 27 # because we have 27 chars\n",
    "W2 = torch.randn((100, 27))\n",
    "b2 = torch.randn(27)\n",
    "\n",
    "logits = h @ W2 + b2 \n",
    "logits, logits.shape\n",
    "\n",
    "# for each example, we have 27 outputs. But we wan't probabilities "
   ]
  },
  {
   "cell_type": "code",
   "execution_count": 23,
   "metadata": {},
   "outputs": [
    {
     "name": "stdout",
     "output_type": "stream",
     "text": [
      "torch.Size([16, 27])\n",
      "tensor([[2.8828e-20, 8.9243e-16, 1.5632e-12, 2.9960e-16, 6.9996e-14, 7.1155e-16,\n",
      "         6.1195e-18, 2.4407e-07, 5.2789e-18, 1.3644e-09, 2.7161e-13, 2.6914e-04,\n",
      "         1.3882e-15, 3.2174e-08, 4.4072e-16, 3.5940e-08, 4.5243e-17, 2.5300e-13,\n",
      "         1.6764e-09, 6.5280e-13, 6.3557e-08, 9.9973e-01, 2.0427e-08, 6.5454e-09,\n",
      "         6.5042e-09, 8.4986e-11, 6.6121e-11],\n",
      "        [1.5530e-14, 1.3835e-10, 6.8586e-02, 1.0836e-10, 1.9642e-14, 7.7457e-12,\n",
      "         4.6628e-13, 2.0691e-04, 9.8197e-14, 2.2102e-12, 9.7437e-05, 8.7914e-04,\n",
      "         2.6848e-12, 4.9351e-10, 7.4711e-13, 1.0324e-06, 7.4945e-16, 2.3052e-08,\n",
      "         2.0209e-08, 4.8368e-06, 5.8758e-02, 8.7147e-01, 1.4093e-08, 8.3349e-09,\n",
      "         4.7314e-09, 1.0777e-14, 7.9783e-10],\n",
      "        [4.3340e-16, 1.0582e-07, 4.3990e-09, 1.1872e-08, 2.2524e-04, 2.4540e-13,\n",
      "         9.0554e-01, 1.6574e-06, 1.1311e-12, 3.6096e-13, 4.8527e-06, 5.9547e-06,\n",
      "         2.4700e-15, 4.1251e-03, 1.2378e-11, 8.5944e-10, 1.3671e-13, 3.9327e-06,\n",
      "         8.9212e-02, 1.0611e-12, 4.1606e-09, 8.1947e-13, 2.6129e-06, 1.0469e-10,\n",
      "         2.1687e-10, 8.7873e-04, 3.4273e-11],\n",
      "        [6.3177e-05, 4.9468e-11, 2.2657e-13, 2.3279e-14, 4.6637e-04, 1.2475e-06,\n",
      "         3.3013e-03, 1.5303e-08, 1.5438e-09, 7.0980e-10, 4.8588e-06, 3.7221e-07,\n",
      "         5.8902e-07, 1.5271e-13, 5.1707e-12, 1.4441e-12, 1.7533e-07, 5.0557e-07,\n",
      "         2.2669e-10, 6.5504e-01, 1.8142e-06, 2.3248e-11, 2.0415e-11, 1.9684e-01,\n",
      "         7.8173e-07, 1.4427e-01, 2.0185e-09],\n",
      "        [1.0045e-12, 3.0711e-08, 4.0759e-06, 2.8550e-11, 1.1375e-05, 2.5695e-09,\n",
      "         6.0044e-02, 6.6830e-04, 1.7592e-11, 4.8972e-13, 3.5594e-02, 2.6963e-01,\n",
      "         1.6956e-09, 1.0438e-06, 9.4218e-09, 1.2168e-08, 1.3297e-09, 1.6650e-03,\n",
      "         2.3076e-07, 9.9467e-03, 7.5086e-04, 6.1459e-01, 6.6328e-06, 1.1903e-03,\n",
      "         4.2350e-04, 5.4773e-03, 1.6435e-08],\n",
      "        [2.8828e-20, 8.9243e-16, 1.5632e-12, 2.9960e-16, 6.9996e-14, 7.1155e-16,\n",
      "         6.1195e-18, 2.4407e-07, 5.2789e-18, 1.3644e-09, 2.7161e-13, 2.6914e-04,\n",
      "         1.3882e-15, 3.2174e-08, 4.4072e-16, 3.5940e-08, 4.5243e-17, 2.5300e-13,\n",
      "         1.6764e-09, 6.5280e-13, 6.3557e-08, 9.9973e-01, 2.0427e-08, 6.5454e-09,\n",
      "         6.5042e-09, 8.4986e-11, 6.6121e-11],\n",
      "        [1.0275e-20, 1.4365e-12, 4.6413e-06, 5.4839e-13, 7.8297e-15, 1.1010e-12,\n",
      "         2.4878e-18, 1.5966e-06, 2.1537e-16, 9.1623e-15, 1.4232e-09, 1.9852e-04,\n",
      "         3.1042e-15, 7.9942e-12, 5.8865e-15, 3.6212e-09, 3.4812e-20, 8.9203e-12,\n",
      "         1.8339e-11, 7.3177e-09, 1.7108e-05, 9.9978e-01, 7.2495e-09, 9.1070e-10,\n",
      "         1.0134e-08, 2.2435e-15, 4.5501e-13],\n",
      "        [3.4076e-13, 4.3221e-06, 6.6530e-09, 9.3159e-07, 2.0744e-08, 1.2458e-11,\n",
      "         5.6530e-07, 8.3038e-01, 2.9785e-09, 1.5016e-08, 2.1587e-05, 1.3932e-01,\n",
      "         5.9252e-07, 2.8951e-02, 4.5548e-12, 2.7973e-07, 5.9046e-09, 2.1297e-07,\n",
      "         4.6822e-06, 6.8497e-05, 3.7088e-04, 1.0378e-04, 3.3845e-04, 3.7265e-04,\n",
      "         4.6600e-09, 1.0934e-07, 6.3015e-05],\n",
      "        [6.7571e-04, 1.4368e-11, 4.9467e-08, 2.7864e-06, 7.6802e-03, 3.1830e-01,\n",
      "         8.1148e-18, 2.6264e-04, 1.6597e-04, 3.7536e-04, 3.2723e-10, 6.4933e-06,\n",
      "         3.6618e-02, 4.5520e-12, 5.0919e-09, 7.9361e-06, 1.2389e-03, 6.2534e-09,\n",
      "         7.3386e-06, 8.8887e-02, 3.2205e-09, 1.1411e-06, 5.1490e-01, 2.0614e-07,\n",
      "         2.7911e-02, 2.9671e-03, 5.1531e-14],\n",
      "        [9.2333e-16, 8.3139e-06, 1.6369e-05, 6.5199e-09, 6.9722e-11, 3.5585e-11,\n",
      "         6.5855e-11, 8.3340e-09, 8.9289e-12, 2.6264e-12, 9.9267e-11, 2.3244e-04,\n",
      "         2.4144e-18, 3.2614e-02, 6.2124e-09, 8.2128e-01, 3.8307e-17, 6.5873e-10,\n",
      "         1.4549e-01, 1.8419e-16, 3.5745e-04, 1.7333e-09, 3.1342e-06, 2.6573e-13,\n",
      "         6.6634e-13, 5.2936e-10, 2.8659e-07],\n",
      "        [1.9139e-09, 1.2622e-05, 2.2017e-05, 7.0505e-12, 2.8443e-10, 1.2188e-09,\n",
      "         4.9316e-04, 2.1326e-03, 5.0403e-11, 6.1046e-14, 4.2757e-04, 7.8497e-01,\n",
      "         1.7217e-08, 4.5593e-08, 3.4755e-07, 2.5069e-09, 1.4260e-09, 2.4106e-05,\n",
      "         2.1157e-10, 3.8425e-02, 1.7804e-03, 1.7079e-01, 5.0674e-07, 8.6913e-04,\n",
      "         2.9820e-07, 7.3196e-06, 4.5297e-05],\n",
      "        [1.4647e-11, 5.1312e-07, 4.3242e-05, 1.6791e-06, 7.5525e-02, 4.4976e-07,\n",
      "         1.2392e-02, 9.9311e-02, 3.4368e-09, 4.3075e-08, 1.3698e-01, 8.2098e-02,\n",
      "         5.9484e-06, 7.7151e-06, 1.4161e-08, 1.1503e-03, 2.6680e-08, 2.3986e-02,\n",
      "         1.7327e-03, 1.2479e-03, 3.6070e-04, 2.8158e-05, 9.1548e-03, 5.5892e-06,\n",
      "         2.1445e-02, 5.3452e-01, 6.0978e-10],\n",
      "        [2.8828e-20, 8.9243e-16, 1.5632e-12, 2.9960e-16, 6.9996e-14, 7.1155e-16,\n",
      "         6.1195e-18, 2.4407e-07, 5.2789e-18, 1.3644e-09, 2.7161e-13, 2.6914e-04,\n",
      "         1.3882e-15, 3.2174e-08, 4.4072e-16, 3.5940e-08, 4.5243e-17, 2.5300e-13,\n",
      "         1.6764e-09, 6.5280e-13, 6.3557e-08, 9.9973e-01, 2.0427e-08, 6.5454e-09,\n",
      "         6.5042e-09, 8.4986e-11, 6.6121e-11],\n",
      "        [9.9264e-21, 1.0300e-12, 5.2713e-06, 7.7497e-13, 1.6221e-14, 1.2571e-12,\n",
      "         3.0706e-18, 1.1525e-06, 2.5948e-16, 2.2794e-14, 1.7539e-09, 5.2691e-04,\n",
      "         1.9217e-15, 1.5020e-11, 9.6831e-15, 6.6452e-09, 1.9918e-20, 1.5672e-11,\n",
      "         4.7689e-11, 5.3837e-09, 4.3762e-05, 9.9942e-01, 1.7486e-08, 1.1779e-09,\n",
      "         1.5710e-08, 4.5776e-15, 4.7191e-13],\n",
      "        [5.1915e-16, 1.5492e-09, 5.6404e-07, 8.7455e-06, 6.2467e-05, 1.8199e-10,\n",
      "         1.2760e-08, 6.9925e-03, 3.5487e-12, 4.7860e-08, 9.2425e-06, 1.4042e-02,\n",
      "         1.0112e-11, 4.9721e-02, 6.5162e-12, 5.3149e-02, 8.9553e-12, 9.2021e-05,\n",
      "         8.4569e-01, 2.2682e-08, 1.7512e-04, 7.3995e-06, 2.9502e-02, 1.2395e-09,\n",
      "         5.3936e-04, 4.8975e-06, 2.0575e-10],\n",
      "        [2.8472e-07, 9.6769e-07, 1.5937e-05, 2.3003e-12, 7.5313e-07, 3.2116e-07,\n",
      "         4.8692e-02, 6.5694e-04, 1.9971e-09, 4.4744e-12, 2.9395e-03, 2.5408e-01,\n",
      "         5.3601e-07, 5.0834e-09, 3.5212e-07, 2.4983e-09, 7.8010e-08, 2.7656e-04,\n",
      "         2.5818e-09, 6.6857e-01, 1.7930e-03, 1.9156e-02, 7.7460e-06, 2.0853e-03,\n",
      "         4.3697e-05, 1.6799e-03, 2.1626e-07]])\n"
     ]
    },
    {
     "data": {
      "text/plain": [
       "tensor([[1.0000],\n",
       "        [1.0000],\n",
       "        [1.0000],\n",
       "        [1.0000],\n",
       "        [1.0000],\n",
       "        [1.0000],\n",
       "        [1.0000],\n",
       "        [1.0000],\n",
       "        [1.0000],\n",
       "        [1.0000],\n",
       "        [1.0000],\n",
       "        [1.0000],\n",
       "        [1.0000],\n",
       "        [1.0000],\n",
       "        [1.0000],\n",
       "        [1.0000]])"
      ]
     },
     "execution_count": 23,
     "metadata": {},
     "output_type": "execute_result"
    }
   ],
   "source": [
    "# Thus, we (manually) create the softmax\n",
    "\n",
    "counts = logits.exp()\n",
    "prob = counts/counts.sum(1, keepdims=True)\n",
    "print(prob.shape)\n",
    "print(prob)\n",
    "prob.sum(1, keepdim=True) # we see that each row sums to 1 (these are probability distributions as we wanted)"
   ]
  },
  {
   "cell_type": "code",
   "execution_count": 24,
   "metadata": {},
   "outputs": [
    {
     "name": "stdout",
     "output_type": "stream",
     "text": [
      "tensor([7.1155e-16, 4.9351e-10, 4.1251e-03, 4.9468e-11, 1.0045e-12, 3.5940e-08,\n",
      "        3.1042e-15, 1.5016e-08, 5.1490e-01, 2.6264e-12, 1.2622e-05, 1.4647e-11,\n",
      "        8.9243e-16, 1.7486e-08, 1.5492e-09, 2.8472e-07])\n"
     ]
    },
    {
     "data": {
      "text/plain": [
       "tensor(20.8216)"
      ]
     },
     "execution_count": 24,
     "metadata": {},
     "output_type": "execute_result"
    }
   ],
   "source": [
    "print(prob[torch.arange(X.shape[0]), Y]) # tensor of the probabilities of the correct following chars \n",
    "\n",
    "loss = -prob[torch.arange(X.shape[0]), Y].log().mean() # negative log likelihood ~ cross_entropy\n",
    "loss\n",
    "\n",
    "# It's less efficient to implement ourselves the cross entropy loss (no memory re allocation, explicit gradient form = better backward pass, NaN handling...)"
   ]
  },
  {
   "cell_type": "markdown",
   "metadata": {},
   "source": [
    "### Recap up to this point and training\n",
    "\n",
    "We re implement the model in a condensed way and train it using backpropagation."
   ]
  },
  {
   "cell_type": "code",
   "execution_count": 25,
   "metadata": {},
   "outputs": [
    {
     "data": {
      "text/plain": [
       "(torch.Size([16, 3]), torch.Size([16]))"
      ]
     },
     "execution_count": 25,
     "metadata": {},
     "output_type": "execute_result"
    }
   ],
   "source": [
    "X.shape, Y.shape # dataset"
   ]
  },
  {
   "cell_type": "code",
   "execution_count": 26,
   "metadata": {},
   "outputs": [],
   "source": [
    "# hyper parameters\n",
    "emb_dim = 2\n",
    "block_size = 3\n",
    "nbr_neurons = 100\n",
    "step = 0.1\n",
    "\n",
    "# constants\n",
    "nbr_chars = 27"
   ]
  },
  {
   "cell_type": "code",
   "execution_count": 49,
   "metadata": {},
   "outputs": [],
   "source": [
    "g = torch.Generator().manual_seed(2147483647) # for reproducibility\n",
    "C = torch.randn((nbr_chars, 2), generator=g)\n",
    "W1 = torch.randn((emb_dim*block_size, nbr_neurons), generator=g)\n",
    "b1 = torch.randn(nbr_neurons, generator=g)\n",
    "W2 = torch.randn((nbr_neurons, nbr_chars), generator=g)\n",
    "b2 = torch.randn(nbr_chars, generator=g)\n",
    "parameters = [C, W1, b1, W2, b2]"
   ]
  },
  {
   "cell_type": "code",
   "execution_count": 28,
   "metadata": {},
   "outputs": [
    {
     "data": {
      "text/plain": [
       "3481"
      ]
     },
     "execution_count": 28,
     "metadata": {},
     "output_type": "execute_result"
    }
   ],
   "source": [
    "sum([p.nelement() for p in parameters])"
   ]
  },
  {
   "cell_type": "code",
   "execution_count": 29,
   "metadata": {},
   "outputs": [
    {
     "name": "stdout",
     "output_type": "stream",
     "text": [
      "20.24171257019043\n",
      "14.233868598937988\n",
      "10.578412055969238\n",
      "7.819599628448486\n",
      "6.053428649902344\n",
      "4.864985466003418\n",
      "3.8876328468322754\n",
      "3.076685667037964\n",
      "2.4039056301116943\n",
      "1.8741708993911743\n"
     ]
    }
   ],
   "source": [
    "# The training / optimization \n",
    "for p in parameters:\n",
    "    p.requires_grad = True # so that the gradient descent concerns all the params \n",
    "\n",
    "for _ in range(10):\n",
    "    # Forward pass \n",
    "    emb = C[X] #(16, 3, 2)\n",
    "    h = torch.tanh(emb.view(-1,6) @ W1 + b1)\n",
    "    logits = h @ W2 + b2\n",
    "    loss = F.cross_entropy(logits,Y) \n",
    "    print(loss.item())\n",
    "\n",
    "    # Backward pass\n",
    "    for p in parameters:\n",
    "        p.grad = None # reset the gradients more efficiently than setting them to 0\n",
    "\n",
    "    loss.backward()\n",
    "\n",
    "    # update\n",
    "    for p in parameters:\n",
    "        p.data += -step * p.grad \n",
    "    \n",
    "# It's that good because we are overfitting 16 examples "
   ]
  },
  {
   "cell_type": "code",
   "execution_count": 30,
   "metadata": {},
   "outputs": [
    {
     "name": "stdout",
     "output_type": "stream",
     "text": [
      "torch.Size([228146, 3])\n",
      "torch.Size([228146])\n"
     ]
    }
   ],
   "source": [
    "# Let's now create X and Y with all the words \n",
    "\n",
    "X,Y = [], []\n",
    "for w in words:\n",
    "    context = [0] * block_size # create the empty list of appropriate size 0's are \".\"\n",
    "    for ch in w + '.': # add a dot at the end of the word \n",
    "        ix = stoi[ch] # retrieve the index of the ch\n",
    "        X.append(context) \n",
    "        Y.append(ix) # target is the index of the ch\n",
    "        context = context[1:] + [ix] # crop to the left and add the next index to the right \n",
    "\n",
    "X = torch.tensor(X)\n",
    "Y = torch.tensor(Y)\n",
    "print(X.shape)\n",
    "print(Y.shape)"
   ]
  },
  {
   "cell_type": "code",
   "execution_count": 31,
   "metadata": {},
   "outputs": [
    {
     "name": "stdout",
     "output_type": "stream",
     "text": [
      "13.740729331970215\n",
      "13.09607219696045\n",
      "12.531704902648926\n",
      "12.029227256774902\n",
      "11.577725410461426\n",
      "11.171456336975098\n",
      "10.805702209472656\n",
      "10.47529411315918\n",
      "10.174715042114258\n",
      "9.89874267578125\n"
     ]
    }
   ],
   "source": [
    "# We now train on the whole dataset \n",
    "for p in parameters:\n",
    "    p.requires_grad = True # so that the gradient descent concerns all the params \n",
    "\n",
    "for _ in range(10):\n",
    "    # Forward pass \n",
    "    emb = C[X] #(16, 3, 2)\n",
    "    h = torch.tanh(emb.view(-1,6) @ W1 + b1) \n",
    "    logits = h @ W2 + b2\n",
    "    loss = F.cross_entropy(logits,Y) \n",
    "    print(loss.item())\n",
    "\n",
    "    # Backward pass\n",
    "    for p in parameters:\n",
    "        p.grad = None # reset the gradients more efficiently than setting them to 0\n",
    "\n",
    "    loss.backward()\n",
    "\n",
    "    # update\n",
    "    for p in parameters:\n",
    "        p.data += -step * p.grad \n",
    "\n",
    "# We notice that the loss decreases much more slowly\n",
    "# Also, each iteration takes time, we will use minibatching to adress that"
   ]
  },
  {
   "cell_type": "markdown",
   "metadata": {},
   "source": [
    "### Mini batch training\n",
    "\n",
    "The idea of mini batch training is to train the model on a small random subset of the data at a time.\n",
    "\n",
    "The model is trained on the subset, and the weights are updated.\n",
    "\n",
    "It is used because it balances the trade-off between the efficiency of stochastic gradient descent (SGD) and the stability of full-batch gradient descent.\n",
    "\n",
    "It works because the mini-batch gradient is a good approximation of the full-batch gradient, and it is more computationally efficient than full-batch training.\n",
    "\n",
    "The randomness is responsible for the up and downs in the loss curve.\n",
    "\n",
    "Pros:\n",
    "\n",
    "- Faster convergence compared to full-batch training.\n",
    "- More stable updates compared to SGD.\n",
    "- Better utilization of hardware resources.\n",
    "\n",
    "Cons:\n",
    "\n",
    "- Requires tuning of the batch size.\n",
    "- May still be computationally expensive for very large datasets.\n",
    "- Can introduce noise in the gradient updates.\n",
    "\n",
    "#### Note : It's better to have an approximate of the gradient and make much more step than having the exact gradient and make less step."
   ]
  },
  {
   "cell_type": "code",
   "execution_count": 32,
   "metadata": {},
   "outputs": [
    {
     "name": "stdout",
     "output_type": "stream",
     "text": [
      "tensor([[ 0,  0,  0],\n",
      "        [ 0,  0,  0],\n",
      "        [14,  9, 12],\n",
      "        [22, 15, 14],\n",
      "        [ 0,  0,  4]]) torch.Size([32, 3])\n"
     ]
    },
    {
     "data": {
      "text/plain": [
       "(tensor([ 5, 12,  9,  0,  8]), torch.Size([]))"
      ]
     },
     "execution_count": 32,
     "metadata": {},
     "output_type": "execute_result"
    }
   ],
   "source": [
    "ixs = torch.randint(0, X.shape[0], (32,)) # tensor of batch_size integers \n",
    "print(X[ixs][:5], X[ixs].shape) # X[ixs] --> tensor of batch_size rows of X located by the random ixs\n",
    "Y[ixs][:5], Y[ix].shape # Corresponding ground thruths "
   ]
  },
  {
   "cell_type": "code",
   "execution_count": 33,
   "metadata": {},
   "outputs": [
    {
     "name": "stdout",
     "output_type": "stream",
     "text": [
      "10.317536354064941\n",
      "8.764633178710938\n",
      "10.907901763916016\n",
      "10.634355545043945\n",
      "9.704976081848145\n",
      "8.30193042755127\n",
      "6.805624485015869\n",
      "9.069713592529297\n",
      "8.17194938659668\n",
      "6.629061698913574\n",
      "8.072404861450195\n",
      "8.038716316223145\n",
      "7.939483165740967\n",
      "6.9309306144714355\n",
      "9.076131820678711\n",
      "8.108695983886719\n",
      "6.982093334197998\n",
      "6.763941764831543\n",
      "7.683953762054443\n",
      "6.709555149078369\n",
      "5.07699728012085\n",
      "6.053630828857422\n",
      "6.8117451667785645\n",
      "5.354752063751221\n",
      "6.667349815368652\n",
      "5.690914154052734\n",
      "7.7276740074157715\n",
      "5.40645694732666\n",
      "6.53068733215332\n",
      "6.058970928192139\n",
      "5.97503662109375\n",
      "5.6116042137146\n",
      "5.794808864593506\n",
      "6.073169708251953\n",
      "5.159719467163086\n",
      "6.816597938537598\n",
      "4.594086647033691\n",
      "5.2468581199646\n",
      "5.194203853607178\n",
      "5.082757472991943\n",
      "4.652572154998779\n",
      "4.884854316711426\n",
      "5.193840980529785\n",
      "5.875397682189941\n",
      "4.4736199378967285\n",
      "5.922550201416016\n",
      "4.27190637588501\n",
      "5.477975845336914\n",
      "7.323955535888672\n",
      "3.912048816680908\n",
      "4.803825855255127\n",
      "4.354580879211426\n",
      "5.409005165100098\n",
      "4.946399688720703\n",
      "4.167651176452637\n",
      "4.186528205871582\n",
      "4.847184658050537\n",
      "4.439626216888428\n",
      "5.194549560546875\n",
      "4.254899501800537\n",
      "3.19062876701355\n",
      "4.6025004386901855\n",
      "3.693119525909424\n",
      "4.3452043533325195\n",
      "5.169208526611328\n",
      "3.6262316703796387\n",
      "4.7659783363342285\n",
      "4.879083633422852\n",
      "3.5987231731414795\n",
      "5.0815911293029785\n",
      "4.9465179443359375\n",
      "3.7159886360168457\n",
      "3.520646333694458\n",
      "3.658064603805542\n",
      "2.856903076171875\n",
      "4.643117904663086\n",
      "3.8042409420013428\n",
      "5.246774673461914\n",
      "4.035385608673096\n",
      "5.204338073730469\n",
      "3.8041398525238037\n",
      "3.7087936401367188\n",
      "2.973165988922119\n",
      "3.8009448051452637\n",
      "4.332163333892822\n",
      "3.9216361045837402\n",
      "3.730239152908325\n",
      "4.760204792022705\n",
      "4.470095634460449\n",
      "3.6834380626678467\n",
      "4.2965569496154785\n",
      "3.748018980026245\n",
      "3.5836565494537354\n",
      "4.027575492858887\n",
      "3.6861343383789062\n",
      "3.3128485679626465\n",
      "2.8869941234588623\n",
      "3.5155158042907715\n",
      "3.169635772705078\n",
      "4.180678367614746\n"
     ]
    },
    {
     "data": {
      "text/plain": [
       "tensor(4.1807, grad_fn=<NllLossBackward0>)"
      ]
     },
     "execution_count": 33,
     "metadata": {},
     "output_type": "execute_result"
    }
   ],
   "source": [
    "batch_size = 32\n",
    "\n",
    "def minibatch_training(n):\n",
    "    for p in parameters:\n",
    "        p.requires_grad = True # so that the gradient descent concerns all the params \n",
    "\n",
    "    for _ in range(n):\n",
    "        # minibatch construct \n",
    "        ixs = torch.randint(0, X.shape[0], (batch_size,)) \n",
    "\n",
    "        # Forward pass \n",
    "        emb = C[X[ixs]] \n",
    "        h = torch.tanh(emb.view(-1,6) @ W1 + b1) \n",
    "        logits = h @ W2 + b2\n",
    "        loss = F.cross_entropy(logits,Y[ixs]) \n",
    "        print(loss.item())\n",
    "\n",
    "        # Backward pass\n",
    "        for p in parameters:\n",
    "            p.grad = None # reset the gradients more efficiently than setting them to 0\n",
    "\n",
    "        loss.backward()\n",
    "\n",
    "        # update\n",
    "        for p in parameters:\n",
    "            p.data += -step * p.grad \n",
    "    \n",
    "    return loss \n",
    "minibatch_training(100)\n",
    "# Almost instantanous results with more iterations --> loss decreases faster "
   ]
  },
  {
   "cell_type": "code",
   "execution_count": 47,
   "metadata": {},
   "outputs": [
    {
     "name": "stdout",
     "output_type": "stream",
     "text": [
      "2.6355528831481934\n",
      "2.7661399841308594\n",
      "2.721900463104248\n",
      "2.5069968700408936\n",
      "3.048855781555176\n",
      "2.8844552040100098\n",
      "2.6070170402526855\n",
      "2.13108229637146\n",
      "2.64514422416687\n",
      "2.840970039367676\n",
      "2.683633804321289\n",
      "2.468022346496582\n",
      "2.406010150909424\n",
      "2.622878074645996\n",
      "2.7390542030334473\n",
      "2.4803192615509033\n",
      "2.9516756534576416\n",
      "2.2709503173828125\n",
      "2.4673593044281006\n",
      "2.5825133323669434\n",
      "2.1916821002960205\n",
      "2.216161012649536\n",
      "2.914738178253174\n",
      "2.663822650909424\n",
      "2.3957715034484863\n",
      "2.5684139728546143\n",
      "2.6807563304901123\n",
      "2.318681001663208\n",
      "2.799699544906616\n",
      "2.2864036560058594\n",
      "2.6074163913726807\n",
      "2.9546566009521484\n",
      "2.768932580947876\n",
      "2.4840822219848633\n",
      "2.845425605773926\n",
      "2.828756093978882\n",
      "2.3915178775787354\n",
      "2.5202693939208984\n",
      "2.4593799114227295\n",
      "2.602020025253296\n",
      "2.2034850120544434\n",
      "2.325793743133545\n",
      "2.520404100418091\n",
      "2.6810710430145264\n",
      "2.8736939430236816\n",
      "2.5024819374084473\n",
      "2.1797525882720947\n",
      "2.3214828968048096\n",
      "2.478311777114868\n",
      "2.7950475215911865\n",
      "2.6663005352020264\n",
      "2.6087594032287598\n",
      "2.5553336143493652\n",
      "2.518674612045288\n",
      "2.537231206893921\n",
      "2.320960283279419\n",
      "2.775954484939575\n",
      "2.7647597789764404\n",
      "2.5813357830047607\n",
      "2.47916841506958\n",
      "2.726060628890991\n",
      "2.350651979446411\n",
      "2.5010976791381836\n",
      "2.766030788421631\n",
      "2.741988182067871\n",
      "2.187105894088745\n",
      "2.5579638481140137\n",
      "2.4768800735473633\n",
      "2.5952231884002686\n",
      "2.31559681892395\n",
      "2.9885194301605225\n",
      "2.437281370162964\n",
      "2.3733325004577637\n",
      "2.6882667541503906\n",
      "2.554821252822876\n",
      "2.488851308822632\n",
      "2.554018497467041\n",
      "2.4842119216918945\n",
      "2.329716205596924\n",
      "2.388157367706299\n",
      "2.5811519622802734\n",
      "2.520188331604004\n",
      "2.5555202960968018\n",
      "2.7758355140686035\n",
      "2.8831064701080322\n",
      "2.6368486881256104\n",
      "2.6630561351776123\n",
      "3.4660804271698\n",
      "2.795297622680664\n",
      "3.0116448402404785\n",
      "2.5101468563079834\n",
      "2.6494691371917725\n",
      "2.37518572807312\n",
      "2.6997783184051514\n",
      "2.6836154460906982\n",
      "2.5915305614471436\n",
      "2.9702529907226562\n",
      "2.7508912086486816\n",
      "2.607128858566284\n",
      "2.55787992477417\n"
     ]
    },
    {
     "data": {
      "text/plain": [
       "tensor(2.5579, grad_fn=<NllLossBackward0>)"
      ]
     },
     "execution_count": 47,
     "metadata": {},
     "output_type": "execute_result"
    }
   ],
   "source": [
    "minibatch_training(100)\n",
    "# converges to ~2.5 on mini batches "
   ]
  },
  {
   "cell_type": "code",
   "execution_count": 48,
   "metadata": {},
   "outputs": [
    {
     "name": "stdout",
     "output_type": "stream",
     "text": [
      "2.588754892349243\n"
     ]
    }
   ],
   "source": [
    "# The loss on the whole data is : \n",
    "emb = C[X] \n",
    "h = torch.tanh(emb.view(-1,6) @ W1 + b1) \n",
    "logits = h @ W2 + b2\n",
    "loss = F.cross_entropy(logits,Y) \n",
    "print(loss.item())"
   ]
  },
  {
   "cell_type": "markdown",
   "metadata": {},
   "source": [
    "### Finding the optimal learning rate"
   ]
  },
  {
   "cell_type": "code",
   "execution_count": 50,
   "metadata": {},
   "outputs": [
    {
     "data": {
      "text/plain": [
       "[<matplotlib.lines.Line2D at 0x242b76ec0e0>]"
      ]
     },
     "execution_count": 50,
     "metadata": {},
     "output_type": "execute_result"
    },
    {
     "data": {
      "image/png": "[encoded data removed]",
      "text/plain": [
       "<Figure size 640x480 with 1 Axes>"
      ]
     },
     "metadata": {},
     "output_type": "display_data"
    }
   ],
   "source": [
    "\n",
    "# empirically, we see that above 1, it's not optimizing/unstable and below 0.001 it's too slow \n",
    "# So now, we will search over possible candidates \n",
    "lre = torch.linspace(-3, 0, 1000)\n",
    "lrs = 10**lre #from 0.001 to 1 exponentielly stepped \n",
    "\n",
    "lri = [] \n",
    "lossi = []\n",
    "for p in parameters:\n",
    "        p.requires_grad = True # so that the gradient descent concerns all the params \n",
    "\n",
    "for i in range(1000):\n",
    "    # minibatch construct \n",
    "    ixs = torch.randint(0, X.shape[0], (batch_size,)) \n",
    "\n",
    "    # Forward pass \n",
    "    emb = C[X[ixs]] \n",
    "    h = torch.tanh(emb.view(-1,6) @ W1 + b1) \n",
    "    logits = h @ W2 + b2\n",
    "    loss = F.cross_entropy(logits,Y[ixs]) \n",
    "\n",
    "    # Backward pass\n",
    "    for p in parameters:\n",
    "        p.grad = None # reset the gradients more efficiently than setting them to 0\n",
    "\n",
    "    loss.backward()\n",
    "\n",
    "    # update\n",
    "    lr = lrs[i]\n",
    "    for p in parameters:\n",
    "        p.data += -lr * p.grad \n",
    "\n",
    "    # track stats on lrs\n",
    "    lri.append(lr.item())\n",
    "    lossi.append(loss.item())\n",
    "\n",
    "\n",
    "plt.plot(lri, lossi)\n",
    "# we see that the optimal rate can be approximated \n",
    "# Here it's around 0.1\n",
    "# So we should set it at 0.1\n",
    "# Then, we can lower it as the nbr of iterations increases (learning rate decay)"
   ]
  },
  {
   "cell_type": "markdown",
   "metadata": {},
   "source": [
    "### Splitting the data into train/val/test\n",
    "\n",
    "Prevents overfitting and helps to evaluate the model on unseen data.\n",
    "\n",
    "The val split is used to tune the hyperparameters of the model, while the test split is used to evaluate the final performance of the model."
   ]
  },
  {
   "cell_type": "code",
   "execution_count": null,
   "metadata": {},
   "outputs": [
    {
     "name": "stdout",
     "output_type": "stream",
     "text": [
      "25626 28829\n",
      "torch.Size([182702, 3]) torch.Size([182702])\n",
      "torch.Size([22670, 3]) torch.Size([22670])\n",
      "torch.Size([22774, 3]) torch.Size([22774])\n"
     ]
    }
   ],
   "source": [
    "\n",
    "def build_dataset(words):\n",
    "    X, Y = [], []\n",
    "    for w in words:\n",
    "        context = [0] * block_size # create the empty list of appropriate size 0's are \".\"\n",
    "        for ch in w + '.': # add a dot at the end of the word \n",
    "            ix = stoi[ch] # retrieve the index of the ch\n",
    "            X.append(context) \n",
    "            Y.append(ix) # target is the index of the ch\n",
    "\n",
    "            #print(''.join(itos[i] for i in context), '--->', itos[ix]) # visually understand the X's and Y's\n",
    "            context = context[1:] + [ix] # crop to the left and add the next index to the right \n",
    "\n",
    "    return torch.tensor(X), torch.tensor(Y)\n",
    "\n",
    "import random \n",
    "random.seed(42)\n",
    "random.shuffle(words) \n",
    "\n",
    "n1 = int(0.8*len(words))\n",
    "n2 = int(0.9*len(words))\n",
    "\n",
    "Xtr, Ytr = build_dataset(words[:n1])\n",
    "Xdev, Ydev = build_dataset(words[n1:n2])\n",
    "Xte, Yte = build_dataset(words[n2:])\n",
    "\n",
    "print(n1, n2)\n",
    "print(Xtr.shape, Ytr.shape)\n",
    "print(Xdev.shape, Ydev.shape)\n",
    "print(Xte.shape, Yte.shape)\n",
    "\n",
    "# The shapes are random because the sizes of the words contained in each sub set vary\n",
    " "
   ]
  },
  {
   "cell_type": "code",
   "execution_count": null,
   "metadata": {},
   "outputs": [],
   "source": [
    "# I put this code here to manually re set the model easily\n",
    "g = torch.Generator().manual_seed(2147483647) # for reproducibility\n",
    "C = torch.randn((nbr_chars, 2), generator=g)\n",
    "W1 = torch.randn((emb_dim*block_size, nbr_neurons), generator=g)\n",
    "b1 = torch.randn(nbr_neurons, generator=g)\n",
    "W2 = torch.randn((nbr_neurons, nbr_chars), generator=g)\n",
    "b2 = torch.randn(nbr_chars, generator=g)\n",
    "parameters = [C, W1, b1, W2, b2]"
   ]
  },
  {
   "cell_type": "code",
   "execution_count": null,
   "metadata": {},
   "outputs": [
    {
     "name": "stdout",
     "output_type": "stream",
     "text": [
      "2.1604180335998535\n"
     ]
    }
   ],
   "source": [
    "# We train the model using only Xtrain \n",
    "for p in parameters:\n",
    "        p.requires_grad = True # so that the gradient descent concerns all the params \n",
    "\n",
    "for i in range(10000):\n",
    "    # minibatch construct \n",
    "    ixs = torch.randint(0, Xtr.shape[0], (batch_size,)) \n",
    "\n",
    "    # Forward pass \n",
    "    emb = C[Xtr[ixs]] \n",
    "    h = torch.tanh(emb.view(-1,6) @ W1 + b1) \n",
    "    logits = h @ W2 + b2\n",
    "    loss = F.cross_entropy(logits,Ytr[ixs]) \n",
    "\n",
    "    # Backward pass\n",
    "    for p in parameters:\n",
    "        p.grad = None # reset the gradients more efficiently than setting them to 0\n",
    "\n",
    "    loss.backward()\n",
    "\n",
    "    # update\n",
    "    for p in parameters:\n",
    "        p.data += -0.01 * p.grad \n",
    "\n",
    "   \n",
    "print(loss.item())\n",
    "# 50k iterations with 0.1, 10k iterations with 0.01 --> 2.160"
   ]
  },
  {
   "cell_type": "code",
   "execution_count": null,
   "metadata": {},
   "outputs": [
    {
     "name": "stdout",
     "output_type": "stream",
     "text": [
      "tensor(2.2877, grad_fn=<NllLossBackward0>)\n"
     ]
    }
   ],
   "source": [
    "# loss on the whole training dataset : \n",
    "emb = C[Xtr] \n",
    "h = torch.tanh(emb.view(-1,6) @ W1 + b1) \n",
    "logits = h @ W2 + b2\n",
    "loss = F.cross_entropy(logits,Ytr) \n",
    "print(loss) # 2.2877"
   ]
  },
  {
   "cell_type": "code",
   "execution_count": null,
   "metadata": {},
   "outputs": [
    {
     "name": "stdout",
     "output_type": "stream",
     "text": [
      "tensor(2.3019, grad_fn=<NllLossBackward0>)\n"
     ]
    }
   ],
   "source": [
    "# Now we evaluate on dev \n",
    "emb = C[Xdev] \n",
    "h = torch.tanh(emb.view(-1,6) @ W1 + b1) \n",
    "logits = h @ W2 + b2\n",
    "loss = F.cross_entropy(logits,Ydev) \n",
    "print(loss) # 2.3019\n",
    "\n",
    "# The losses are quite close so there is no overfitting "
   ]
  },
  {
   "cell_type": "markdown",
   "metadata": {},
   "source": [
    "### Larger Hidden Layer\n",
    "\n",
    "We've seen that the current model is underfitting, so we will increase the size of the hidden layer to see the effect on the loss curve."
   ]
  },
  {
   "cell_type": "code",
   "execution_count": null,
   "metadata": {},
   "outputs": [
    {
     "data": {
      "text/plain": [
       "10281"
      ]
     },
     "execution_count": 84,
     "metadata": {},
     "output_type": "execute_result"
    }
   ],
   "source": [
    "nbr_neurons = 300\n",
    "\n",
    "g = torch.Generator().manual_seed(2147483647) # for reproducibility\n",
    "C = torch.randn((nbr_chars, 2), generator=g)\n",
    "W1 = torch.randn((emb_dim*block_size, nbr_neurons), generator=g)\n",
    "b1 = torch.randn(nbr_neurons, generator=g)\n",
    "W2 = torch.randn((nbr_neurons, nbr_chars), generator=g)\n",
    "b2 = torch.randn(nbr_chars, generator=g)\n",
    "parameters = [C, W1, b1, W2, b2]\n",
    "\n",
    "sum(p.nelement() for p in parameters) # 10281 parameters with 300 neurons"
   ]
  },
  {
   "cell_type": "code",
   "execution_count": 94,
   "metadata": {},
   "outputs": [
    {
     "name": "stdout",
     "output_type": "stream",
     "text": [
      "tensor(2.3890, grad_fn=<NllLossBackward0>)\n"
     ]
    },
    {
     "data": {
      "text/plain": [
       "[<matplotlib.lines.Line2D at 0x242b6e50290>]"
      ]
     },
     "execution_count": 94,
     "metadata": {},
     "output_type": "execute_result"
    },
    {
     "data": {
      "image/png": "[encoded data removed]",
      "text/plain": [
       "<Figure size 640x480 with 1 Axes>"
      ]
     },
     "metadata": {},
     "output_type": "display_data"
    }
   ],
   "source": [
    "for p in parameters:\n",
    "        p.requires_grad = True # so that the gradient descent concerns all the params \n",
    "\n",
    "stepi = [] # Warning : step refers to an iteration not a learning rate\n",
    "lossi = []\n",
    "for i in range(10000):\n",
    "    # minibatch construct \n",
    "    ixs = torch.randint(0, Xtr.shape[0], (batch_size,)) \n",
    "\n",
    "    # Forward pass \n",
    "    emb = C[Xtr[ixs]] \n",
    "    h = torch.tanh(emb.view(-1,6) @ W1 + b1) \n",
    "    logits = h @ W2 + b2\n",
    "    loss = F.cross_entropy(logits,Ytr[ixs]) \n",
    "\n",
    "    # Backward pass\n",
    "    for p in parameters:\n",
    "        p.grad = None # reset the gradients more efficiently than setting them to 0\n",
    "\n",
    "    loss.backward()\n",
    "\n",
    "    # update\n",
    "    for p in parameters:\n",
    "        p.data += -0.01 * p.grad \n",
    "\n",
    "    stepi.append(i)\n",
    "    lossi.append(loss.item())\n",
    "\n",
    "print(loss) # 2.5253 after 30k steps at 0.1 to 2.2054 after 10k more steps at 0.01 \n",
    "plt.plot(stepi, lossi)\n",
    "# Mini batchs introduice a lot of noise as we can see "
   ]
  },
  {
   "cell_type": "code",
   "execution_count": null,
   "metadata": {},
   "outputs": [
    {
     "name": "stdout",
     "output_type": "stream",
     "text": [
      "tensor(2.2684, grad_fn=<NllLossBackward0>)\n",
      "tensor(2.2886, grad_fn=<NllLossBackward0>)\n"
     ]
    }
   ],
   "source": [
    "# on train \n",
    "emb = C[Xtr] \n",
    "h = torch.tanh(emb.view(-1,6) @ W1 + b1) \n",
    "logits = h @ W2 + b2\n",
    "loss = F.cross_entropy(logits,Ytr) \n",
    "print(loss) \n",
    "\n",
    "# on dev \n",
    "emb = C[Xdev] \n",
    "h = torch.tanh(emb.view(-1,6) @ W1 + b1) \n",
    "logits = h @ W2 + b2\n",
    "loss = F.cross_entropy(logits,Ydev) \n",
    "print(loss) \n",
    "\n",
    "# 2.6066, 2.6151 with 30k at 0.1 + 10k at 0.01\n",
    "# So we didn't upgrade the performances \n",
    "# One of the reasons may be that the batch size is so low (32) that there is too much noise and we are not optimizing properly\n",
    "# Also, the embedding space is propably too restrictive (2D)\n",
    "# \n",
    "# Actually, playing with the learning rates and training the model longer give better results (as excpected bc of the bigger size) \n",
    "# I've reached 2.2684 on training and 2.2886 on dev "
   ]
  },
  {
   "cell_type": "markdown",
   "metadata": {},
   "source": [
    "### Embedding Visualization and scaling"
   ]
  },
  {
   "cell_type": "code",
   "execution_count": null,
   "metadata": {},
   "outputs": [
    {
     "name": "stdout",
     "output_type": "stream",
     "text": [
      "torch.Size([27, 2])\n"
     ]
    },
    {
     "data": {
      "image/png": "[encoded data removed]",
      "text/plain": [
       "<Figure size 800x800 with 1 Axes>"
      ]
     },
     "metadata": {},
     "output_type": "display_data"
    }
   ],
   "source": [
    "plt.figure(figsize=(8,8))\n",
    "plt.scatter(C[:,0].data, C[:,1].data, s=200)\n",
    "for i in range(C.shape[0]):\n",
    "    plt.text(C[i,0].item(), C[i,1].item(), itos[i], ha=\"center\", va=\"center\", color=\"white\")\n",
    "plt.grid(\"minor\")\n",
    "\n",
    "# We see that the vowels are separated from the rest on the top of the image, except for \"u\" which has a very special embedding (alone in the top right).\n",
    "# The dot and some other characters ('q', 'g') are also isolated.\n",
    "# I don't really know what the interpretation is.\n",
    "# The remaining letters are clustered together."
   ]
  },
  {
   "cell_type": "code",
   "execution_count": 106,
   "metadata": {},
   "outputs": [
    {
     "data": {
      "text/plain": [
       "11897"
      ]
     },
     "execution_count": 106,
     "metadata": {},
     "output_type": "execute_result"
    }
   ],
   "source": [
    "# Now let's scale this embedding space\n",
    "\n",
    "nbr_neurons = 200 # we down scale the nbr neurons to keep a reasonnable amount of total params \n",
    "emb_dim = 10\n",
    "\n",
    "g = torch.Generator().manual_seed(2147483647) # for reproducibility\n",
    "C = torch.randn((nbr_chars, emb_dim), generator=g)\n",
    "W1 = torch.randn((emb_dim*block_size, nbr_neurons), generator=g)\n",
    "b1 = torch.randn(nbr_neurons, generator=g)\n",
    "W2 = torch.randn((nbr_neurons, nbr_chars), generator=g)\n",
    "b2 = torch.randn(nbr_chars, generator=g)\n",
    "parameters = [C, W1, b1, W2, b2]\n",
    "\n",
    "sum(p.nelement() for p in parameters) # from 10281 to 11681"
   ]
  },
  {
   "cell_type": "code",
   "execution_count": 107,
   "metadata": {},
   "outputs": [],
   "source": [
    "for p in parameters:\n",
    "        p.requires_grad = True \n",
    "\n",
    "stepi = [] \n",
    "lossi = []"
   ]
  },
  {
   "cell_type": "code",
   "execution_count": 114,
   "metadata": {},
   "outputs": [
    {
     "name": "stdout",
     "output_type": "stream",
     "text": [
      "tensor(2.3038, grad_fn=<NllLossBackward0>)\n"
     ]
    },
    {
     "data": {
      "image/png": "[encoded data removed]",
      "text/plain": [
       "<Figure size 1200x400 with 2 Axes>"
      ]
     },
     "metadata": {},
     "output_type": "display_data"
    }
   ],
   "source": [
    "\n",
    "for i in range(50000):\n",
    "    # minibatch construct \n",
    "    ixs = torch.randint(0, Xtr.shape[0], (batch_size,)) \n",
    "\n",
    "    # Forward pass \n",
    "    emb = C[Xtr[ixs]] \n",
    "    h = torch.tanh(emb.view(-1,block_size*emb_dim) @ W1 + b1) \n",
    "    logits = h @ W2 + b2\n",
    "    loss = F.cross_entropy(logits,Ytr[ixs]) \n",
    "\n",
    "    # Backward pass\n",
    "    for p in parameters:\n",
    "        p.grad = None \n",
    "\n",
    "    loss.backward()\n",
    "\n",
    "    # update\n",
    "    for p in parameters:\n",
    "        p.data += -0.001 * p.grad \n",
    "\n",
    "    stepi.append(i)\n",
    "    lossi.append(loss.item())\n",
    "\n",
    "import numpy as np\n",
    "\n",
    "print(loss)\n",
    "fig, axes = plt.subplots(1, 2, figsize=(12, 4))\n",
    "\n",
    "axes[0].plot(stepi, lossi)\n",
    "axes[0].set_title(\"Loss\")\n",
    "axes[0].set_xlabel(\"Iterations\")\n",
    "axes[0].set_ylabel(\"Loss\")\n",
    "\n",
    "axes[1].plot(stepi, np.log10(np.array(lossi))) # taking the log makes it clearer as it squashes the values vertically\n",
    "axes[1].set_title(\"Log10(Loss)\")\n",
    "axes[1].set_xlabel(\"Iterations\")\n",
    "\n",
    "plt.tight_layout()\n",
    "plt.show()"
   ]
  },
  {
   "cell_type": "code",
   "execution_count": null,
   "metadata": {},
   "outputs": [
    {
     "name": "stdout",
     "output_type": "stream",
     "text": [
      "tensor(2.1190, grad_fn=<NllLossBackward0>)\n",
      "tensor(2.1686, grad_fn=<NllLossBackward0>)\n"
     ]
    }
   ],
   "source": [
    "# on train \n",
    "emb = C[Xtr] \n",
    "h = torch.tanh(emb.view(-1,emb_dim*block_size) @ W1 + b1) \n",
    "logits = h @ W2 + b2\n",
    "loss = F.cross_entropy(logits,Ytr) \n",
    "print(loss) \n",
    "\n",
    "# on dev \n",
    "emb = C[Xdev] \n",
    "h = torch.tanh(emb.view(-1,emb_dim*block_size) @ W1 + b1) \n",
    "logits = h @ W2 + b2\n",
    "loss = F.cross_entropy(logits,Ydev) \n",
    "print(loss) \n",
    "\n",
    "# After some training, I'm reaching 2.1190 on test and 2.1686 which are the best losses"
   ]
  },
  {
   "cell_type": "markdown",
   "metadata": {},
   "source": [
    "### Sampling from the model"
   ]
  },
  {
   "cell_type": "code",
   "execution_count": 117,
   "metadata": {},
   "outputs": [
    {
     "name": "stdout",
     "output_type": "stream",
     "text": [
      "junide.\n",
      "jakarie.\n",
      "presay.\n",
      "adin.\n",
      "kaileitolett.\n",
      "juham.\n",
      "dameia.\n",
      "yanilenias.\n",
      "dedainrorett.\n",
      "seby.\n",
      "evy.\n",
      "arten.\n",
      "avaunestion.\n",
      "maj.\n",
      "ponis.\n",
      "jah.\n",
      "jaylinora.\n",
      "yae.\n",
      "anna.\n",
      "jaabi.\n"
     ]
    }
   ],
   "source": [
    "g = torch.Generator().manual_seed(2147483647)\n",
    "\n",
    "for _ in range(20):\n",
    "    out = []\n",
    "    context = [0] * block_size\n",
    "    while True:\n",
    "        emb = C[torch.tensor([context])]\n",
    "        h = torch.tanh(emb.view(1,-1) @ W1 + b1)\n",
    "        logits = h @ W2 + b2\n",
    "        probs = F.softmax(logits, dim=1)\n",
    "        ix = torch.multinomial(probs, num_samples=1, generator=g).item()\n",
    "        context = context[1:] + [ix]\n",
    "        out.append(ix)\n",
    "        if ix == 0:\n",
    "            break\n",
    "    \n",
    "    print(''.join(itos[i] for i in out))\n",
    "\n"
   ]
  },
  {
   "cell_type": "markdown",
   "metadata": {},
   "source": [
    "## Conclusion\n",
    "\n",
    "We have seen how to train a multi-layer perceptron to predict the next character in a sequence of characters using an embedding space.\n",
    "\n",
    "We have seen how to train the model using mini-batch training, how to find the optimal learning rate, how to split the data into train/val/test, how to increase the size of the hidden layer to reduce underfitting, how to visualize the embedding space, how to sample from the model, and how to evaluate the model on unseen data.\n",
    "\n",
    "The results are not insane but the names sampled from the model are looking like real names. (pretty much haha)\n",
    "\n",
    "#### Explorations to beat the current loss : \n",
    "- Try different embedding sizes\n",
    "- Try different hidden layer sizes\n",
    "- Try different learning rates\n",
    "- Try different sequence lengths\n",
    "- Try different activation functions\n",
    "\n",
    "#### Explorations to mimic a production ready notebook :\n",
    "- Optimize  batch sizes (training time optimization)\n",
    "- Make sure to have no hard coded values\n",
    "- Try to implement a systematic way to find the optimal hyperparameters\n",
    "- Find the optimal learning rates and decay rates\n",
    "- Try to implement a systematic way to evaluate the model (k-fold cross validation)\n",
    "- Try a way to save the model and load it to make predictions\n",
    "\n",
    "#### Other exercises : \n",
    "- Use this to implement a model trained on words to generate text as in the paper\n",
    "- Make it deeper and create your own MLP architecture\n",
    "\n",
    "\n",
    "\n",
    "\n"
   ]
  }
 ],
 "metadata": {
  "kernelspec": {
   "display_name": "env",
   "language": "python",
   "name": "python3"
  },
  "language_info": {
   "codemirror_mode": {
    "name": "ipython",
    "version": 3
   },
   "file_extension": ".py",
   "mimetype": "text/x-python",
   "name": "python",
   "nbconvert_exporter": "python",
   "pygments_lexer": "ipython3",
   "version": "3.12.0"
  }
 },
 "nbformat": 4,
 "nbformat_minor": 2
}
